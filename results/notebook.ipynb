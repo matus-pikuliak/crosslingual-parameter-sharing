{
 "cells": [
  {
   "cell_type": "code",
   "execution_count": 1,
   "metadata": {
    "pycharm": {
     "is_executing": false
    }
   },
   "outputs": [],
   "source": [
    "# %matplotlib inline\n",
    "%load_ext autoreload\n",
    "%autoreload 2"
   ]
  },
  {
   "cell_type": "code",
   "execution_count": 5,
   "metadata": {
    "pycharm": {
     "is_executing": false
    }
   },
   "outputs": [],
   "source": [
    "import glob\n",
    "import itertools\n",
    "import sys\n",
    "import os\n",
    "\n",
    "import matplotlib\n",
    "import matplotlib.pyplot as plt\n",
    "import numpy as np\n",
    "\n",
    "sys.path.append('..')\n",
    "\n",
    "from run import Run\n",
    "from run_db import db as run_db\n",
    "from run_utils import init_runs, find_runs\n",
    "\n",
    "tasks = ['dep', 'lmo', 'ner', 'pos']\n",
    "langs = ['cs', 'de', 'en', 'es']\n",
    "\n",
    "log_path = '/home/mpikuliak/logs/'\n",
    "\n",
    "runs = init_runs(log_path, run_db)\n",
    "\n",
    "np.set_printoptions(precision=2)"
   ]
  },
  {
   "cell_type": "code",
   "execution_count": 6,
   "metadata": {
    "pycharm": {
     "is_executing": false
    }
   },
   "outputs": [
    {
     "name": "stdout",
     "output_type": "stream",
     "text": [
      "[86.52 76.42 82.44 85.48 69.06 78.52 81.48 79.7  97.6  92.61 94.36 96.23]\n"
     ]
    }
   ],
   "source": [
    "def draw_graphs(runs, tasks, langs, role, metric=None, focused=False, label=None):\n",
    "    \n",
    "    if label is None:\n",
    "        label = lambda run: f'{run.name}-{run.type}'\n",
    "    \n",
    "    fig, axes = plt.subplots(\n",
    "        len(tasks),\n",
    "        len(langs),\n",
    "        figsize=(5*len(langs), 4*len(tasks)),\n",
    "        squeeze=False)\n",
    "\n",
    "    for ax_row, task in zip(axes, tasks):\n",
    "        for ax, lang in zip(ax_row, langs):\n",
    "            for run in runs:\n",
    "                if not focused or run.config['focus_on'] == f'{task}-{lang}':\n",
    "                    history = run.history(\n",
    "                        metric=metric,\n",
    "                        task=task,\n",
    "                        language=lang,\n",
    "                        role=role)\n",
    "                    ax.plot(list(history), label=label(run))\n",
    "\n",
    "    for ax, lang in zip(axes[0], langs):\n",
    "        ax.set_title(lang)\n",
    "\n",
    "    for ax, task in zip(axes[:, 0], tasks):\n",
    "        ax.set_ylabel(task, rotation=0, size='large')\n",
    "        \n",
    "    for ax_row in axes:\n",
    "        for ax in ax_row:\n",
    "            ax.legend()\n",
    "\n",
    "    plt.show()\n",
    "\n",
    "    \n",
    "def results(runs, tasks, langs, focused=True, values_only=False):\n",
    "    \n",
    "    def get_results(run):\n",
    "        out = {}\n",
    "        for task, lang in itertools.product(tasks, langs):\n",
    "            run.load()\n",
    "            if (not focused and run.contains(task, lang)) or run.config['focus_on'] == f'{task}-{lang}':\n",
    "                res, epoch = run.metric_eval(task=task, language=lang)\n",
    "                if res <= 1.01:\n",
    "                    res *= 100\n",
    "                out[(task, lang)] = res, epoch\n",
    "        return out\n",
    "    \n",
    "    out = {\n",
    "        run: get_results(run)\n",
    "        for run in runs}\n",
    "    \n",
    "    if values_only:\n",
    "        return np.array([\n",
    "            list(run.values())[0][0] for run in out.values()\n",
    "        ])\n",
    "    else:\n",
    "        return out\n",
    "    \n",
    "def np_results(name, type='all', focused=True):\n",
    "    return results(\n",
    "        runs=find_runs(\n",
    "            runs,\n",
    "            type=type,\n",
    "            name=name\n",
    "        ),\n",
    "        tasks=tasks,\n",
    "        langs=langs,\n",
    "        values_only=True,\n",
    "        focused=focused\n",
    "    )\n",
    "\n",
    "def gen_table(runs, upper, baseline=None):\n",
    "    metrics = np.vstack([\n",
    "        np.array(np_results(code, type)) for _, type, code in runs\n",
    "    ])\n",
    "    \n",
    "    if baseline is None:\n",
    "        baseline = metrics[0]\n",
    "    aer = (metrics - baseline) / (upper - baseline)\n",
    "    \n",
    "    return np.vstack([\n",
    "        np.mean(metrics[:,:4], axis=1),\n",
    "        np.mean(metrics[:,4:8], axis=1),\n",
    "        np.mean(metrics[:,8:], axis=1),\n",
    "        np.mean(aer, axis=1)*100\n",
    "    ]).T\n",
    "\n",
    "\n",
    "def tempo(name, type='all', mean=True):    \n",
    "    out = np_results(name, type)\n",
    "    for value in out:\n",
    "        print(f'{value:.2f} ', end='')\n",
    "    if mean:\n",
    "        print(np.round([np.mean(out[:4]), np.mean(out[4:8]), np.mean(out[8:])], decimals=2), end='')\n",
    "    print()\n",
    "    \n",
    "simple_baseline = np_results('normal-training', 'stsl', focused=False)\n",
    "two_two_baseline = simple_baseline[[11, 9, 11, 0, 6, 3, 0, 6, 7, 8, 7, 8, 8, 3, 2, 2, 6, 10, 9, 0,]]\n",
    "print(simple_baseline)"
   ]
  },
  {
   "cell_type": "code",
   "execution_count": 6,
   "metadata": {},
   "outputs": [
    {
     "name": "stdout",
     "output_type": "stream",
     "text": [
      "49.37 57.57 48.39 81.51 84.35 86.67 73.18\n",
      "60.08 66.73 61.53 67.83 68.99 64.72 74.82\n",
      "50.60 52.56 47.21 54.21 56.60 43.19 66.19\n",
      "22.65 23.97 22.60 24.86 27.45 25.11 37.19\n",
      "46.28 47.66 47.70 47.37 46.99 47.68 48.10\n",
      "20.13 16.41 20.04 26.26 35.77 29.42 47.25\n",
      "22.70 22.05 21.74 23.67 33.09 21.93 40.75\n",
      "44.87 41.23 42.86 45.09 45.47 49.44 47.23\n",
      "38.92 42.72 39.72 48.34 48.79 30.72 58.35\n",
      "62.04 67.09 62.05 64.51 67.51 65.12 71.72\n",
      "30.36 32.69 30.28 47.93 46.32 22.29 51.61\n",
      "56.61 64.42 62.70 66.67 66.54 63.83 71.50\n",
      "58.53 63.15 59.64 78.45 80.83 81.18 80.64\n",
      "22.37 20.42 22.53 24.13 31.67 16.91 53.89\n",
      "31.31 35.42 30.60 37.00 52.58 49.25 52.51\n",
      "31.08 27.65 31.58 27.37 37.67 33.11 42.51\n",
      "44.00 43.05 42.02 45.82 46.98 43.64 44.64\n",
      "62.49 69.67 59.84 69.72 69.68 55.69 73.61\n",
      "70.70 77.97 72.97 82.37 82.51 87.24 86.27\n",
      "24.46 23.35 23.05 33.84 45.11 45.67 51.33\n"
     ]
    }
   ],
   "source": [
    "two_by_two = results(\n",
    "    runs=find_runs(\n",
    "        runs,\n",
    "        type='var',\n",
    "        name='zero-shot-two-by-two'\n",
    "    ),\n",
    "    tasks=tasks,\n",
    "    langs=langs,\n",
    "    values_only=True\n",
    ")\n",
    "\n",
    "adv = results(\n",
    "    runs=find_runs(\n",
    "        runs,\n",
    "        type='var',\n",
    "        name='zero-shot-two-by-two-adversarial'\n",
    "    ),\n",
    "    tasks=tasks,\n",
    "    langs=langs,\n",
    "    values_only=True\n",
    ")\n",
    "\n",
    "for i, val in enumerate(two_by_two):\n",
    "    print(f'{val:.2f}', end=' ')\n",
    "    if i % 6 == 5:\n",
    "        print(f'{adv[i // 6]:.2f}')"
   ]
  },
  {
   "cell_type": "code",
   "execution_count": 7,
   "metadata": {
    "scrolled": true
   },
   "outputs": [
    {
     "name": "stdout",
     "output_type": "stream",
     "text": [
      "37.66 51.70 49.85 29.38 48.02 60.66 50.88 57.42 77.56 82.41 77.84 74.21 [42.15 54.25 78.  ]\n",
      "39.22 45.87 52.73 29.53 46.80 62.25 51.44 60.66 76.41 83.22 82.06 75.01 [41.84 55.29 79.18]\n",
      "55.44 60.04 57.80 62.83 49.47 64.84 53.09 61.64 82.62 86.56 83.61 86.38 [59.03 57.26 84.79]\n"
     ]
    }
   ],
   "source": [
    "tempo('zero-shot-embs', 'rel')\n",
    "tempo('zero-shot-embs-again', 'rel')\n",
    "tempo('zero-shot-adversarial')\n",
    "\n"
   ]
  },
  {
   "cell_type": "code",
   "execution_count": null,
   "metadata": {
    "pycharm": {
     "is_executing": false
    }
   },
   "outputs": [],
   "source": [
    "tmp = find_runs(runs, name='zero-shot')\n",
    "print(tmp[0].data[0])\n",
    "draw_graphs(tmp, tasks, langs, 'test', metric='loss', focused=True)\n"
   ]
  },
  {
   "cell_type": "code",
   "execution_count": null,
   "metadata": {},
   "outputs": [],
   "source": [
    "tmp = results(\n",
    "    runs=find_runs(\n",
    "        runs,\n",
    "        type='var',\n",
    "        name='low-resource'\n",
    "    ),\n",
    "    tasks=tasks,\n",
    "    langs=langs,\n",
    "    values_only=True\n",
    ")\n",
    "\n",
    "tmp2 = results(\n",
    "    runs=find_runs(\n",
    "        runs,\n",
    "        type='var',\n",
    "        name='low-resource-2'\n",
    "    ),\n",
    "    tasks=tasks,\n",
    "    langs=langs,\n",
    "    values_only=True\n",
    ")\n",
    "\n",
    "tmpa = results(\n",
    "    runs=find_runs(\n",
    "        runs,\n",
    "        type='var',\n",
    "        name='low-resource-advanced'\n",
    "    ),\n",
    "    tasks=tasks,\n",
    "    langs=langs,\n",
    "    values_only=True\n",
    ")\n",
    "\n",
    "adv = iter(tmpa)\n",
    "baselines = iter(tmp[0::5] + tmp2[0::5])\n",
    "bsl = next(baselines)\n",
    "\n",
    "i = 0\n",
    "for r in tmp:\n",
    "    print(f'{r/bsl:.2f}', end=' ')\n",
    "    i += 1\n",
    "    if i % 5 == 0:\n",
    "        for _ in range(3):\n",
    "           print(f'{next(adv)/bsl:.2f}', end=' ')     \n",
    "        print()\n",
    "        bsl = next(baselines)\n",
    "for r in tmp2:\n",
    "    print(f'{r/bsl:.2f}', end=' ')\n",
    "    i += 1\n",
    "    if i % 5 == 0:\n",
    "        for _ in range(3):\n",
    "           print(f'{next(adv)/bsl:.2f}', end=' ')    \n",
    "        print()\n",
    "        bsl = next(baselines)\n",
    "\n"
   ]
  },
  {
   "cell_type": "code",
   "execution_count": null,
   "metadata": {},
   "outputs": [],
   "source": [
    "tmp = results(\n",
    "    runs=find_runs(\n",
    "        runs,\n",
    "        type='var',\n",
    "        name='zero-shot-two-by-two'\n",
    "    ),\n",
    "    tasks=tasks,\n",
    "    langs=langs,\n",
    "    values_only=True\n",
    ")\n",
    "\n",
    "tmpa = results(\n",
    "    runs=find_runs(\n",
    "        runs,\n",
    "        type='var',\n",
    "        name='zero-shot-two-by-two-adversarial'\n",
    "    ),\n",
    "    tasks=tasks,\n",
    "    langs=langs,\n",
    "    values_only=True\n",
    ")\n",
    "\n",
    "baselines = iter(tmp[0::6])\n",
    "bsl = next(baselines)\n",
    "adv = iter(tmpa)\n",
    "\n",
    "i = 0\n",
    "for r in tmp:\n",
    "    print(f'{r/bsl:.2f}', end=' ')\n",
    "    i += 1\n",
    "    if i % 6 == 0:\n",
    "        print(f'{next(adv)/bsl:.2f}')   \n",
    "        bsl = next(baselines)\n",
    "\n",
    "\n"
   ]
  },
  {
   "cell_type": "code",
   "execution_count": 10,
   "metadata": {
    "scrolled": true
   },
   "outputs": [
    {
     "name": "stdout",
     "output_type": "stream",
     "text": [
      "[[38.75 49.3  69.05  0.  ]\n",
      " [37.38 53.13 77.34 12.62]\n",
      " [36.57 47.84 68.95 -3.47]\n",
      " [46.25 56.62 84.09 32.4 ]\n",
      " [49.5  57.54 84.36 36.86]]\n",
      "[ 0.    7.01  0.28 18.11]\n"
     ]
    }
   ],
   "source": [
    "# Porovnanie CL, CL+CT, CL+Co, CL+CT+Co trenovania pre 4x4 a 2x2 nastavenie.\n",
    "print(gen_table([\n",
    "    (12, 'ml-3', 'zero-shot'),\n",
    "    (12, 'rel', 'zero-shot'),\n",
    "    (12, 'ml-unrel-12', 'zero-shot'),\n",
    "    (12, 'all', 'zero-shot'),\n",
    "    (12, 'all', 'zero-shot-400'),  \n",
    "], simple_baseline))\n",
    "                       \n",
    "\n",
    "\n",
    "mat = np_results('zero-shot-two-by-two', 'var')\n",
    "mat = np.reshape(mat, (20, 6))[:,:4].T\n",
    "# print(mat)\n",
    "mat = (mat - mat[0]) / (two_two_baseline - mat[0])\n",
    "mat = np.mean(mat, axis=1)\n",
    "print(mat*100)"
   ]
  },
  {
   "cell_type": "code",
   "execution_count": null,
   "metadata": {},
   "outputs": [],
   "source": [
    "tabl = gen_table([\n",
    "    (12, 'ml-3', 'zero-shot'),\n",
    "    (12, 'all', 'zero-shot-task'),\n",
    "    (12, 'all', 'zero-shot-lang'),\n",
    "    (12, 'all', 'zero-shot-task-lang-no-global'), \n",
    "    (12, 'all', 'zero-shot-task-lang'),\n",
    "], simple_baseline)\n",
    "\n",
    "print(tabl)\n",
    "\n",
    "mat = np_results('zero-shot-two-by-two', 'var')\n",
    "mat = np.reshape(mat, (20, 6))[:,[0,-1]].T\n",
    "mat = (mat - mat[0]) / (two_two_baseline - mat[0])\n",
    "mat = np.mean(mat, axis=1)\n",
    "print(mat*100)\n",
    "                      "
   ]
  },
  {
   "cell_type": "code",
   "execution_count": null,
   "metadata": {},
   "outputs": [],
   "source": [
    "tabl = gen_table([\n",
    "    (12, 'ml-3', 'zero-shot'),\n",
    "    (12, 'all', 'zero-shot-task-emb'),\n",
    "    (12, 'all', 'zero-shot-lang-emb'),\n",
    "    (12, 'all', 'zero-shot-embs'),\n",
    "], simple_baseline)\n",
    "\n",
    "print(tabl)\n",
    "\n",
    "mat = np_results('zero-shot-two-by-two', 'var')\n",
    "mat = np.reshape(mat, (20, 6))[:,[0,-2]].T\n",
    "mat = (mat - mat[0]) / (two_two_baseline - mat[0])\n",
    "mat = np.mean(mat, axis=1)\n",
    "print(mat*100)\n"
   ]
  },
  {
   "cell_type": "code",
   "execution_count": null,
   "metadata": {},
   "outputs": [],
   "source": [
    "tabl = gen_table([\n",
    "    (12, 'ml-3', 'zero-shot'),\n",
    "    (12, 'all', 'zero-shot-adversarial'),\n",
    "], simple_baseline)\n",
    "\n",
    "print(tabl)\n",
    "\n",
    "mat = np.vstack([\n",
    "    np.reshape(\n",
    "        np_results('zero-shot-two-by-two', 'var'), (20, 6)\n",
    "    )[:,0],\n",
    "    np_results('zero-shot-two-by-two-adversarial', 'var')\n",
    "])\n",
    "mat = (mat - mat[0]) / (two_two_baseline - mat[0])\n",
    "mat = np.mean(mat, axis=1)\n",
    "print(mat*100)\n"
   ]
  },
  {
   "cell_type": "code",
   "execution_count": 11,
   "metadata": {},
   "outputs": [
    {
     "name": "stdout",
     "output_type": "stream",
     "text": [
      "[[38.75 49.3  69.05  0.  ]\n",
      " [57.87 57.55 85.95 44.89]\n",
      " [49.5  57.54 84.36 36.86]\n",
      " [46.25 56.62 84.09 32.4 ]\n",
      " [60.12 57.26 85.42 45.61]\n",
      " [58.45 57.54 84.88 44.08]\n",
      " [58.62 58.11 84.86 44.88]\n",
      " [59.03 57.26 84.79 44.13]]\n"
     ]
    }
   ],
   "source": [
    "tabl = gen_table([\n",
    "    (12, 'ml-3', 'zero-shot'),\n",
    "    (12, 'all', 'zero-shot-task-lang'),\n",
    "    (12, 'all', 'zero-shot-400'),\n",
    "    (12, 'all', 'zero-shot'),\n",
    "    (12, 'all', 'zero-shot-embs-400'),\n",
    "    (12, 'all', 'zero-shot-embs'),\n",
    "    (12, 'all', 'zero-shot-adv-400'),\n",
    "    (12, 'all', 'zero-shot-adversarial'),\n",
    "], simple_baseline)\n",
    "\n",
    "print(tabl)"
   ]
  },
  {
   "cell_type": "code",
   "execution_count": null,
   "metadata": {},
   "outputs": [],
   "source": [
    "tabl = gen_table([\n",
    "    (12, 'ml-3', 'zero-shot'),\n",
    "    (12, 'all', 'zero-shot'),\n",
    "    (12, 'ml-3', 'zero-shot-rotated'),    \n",
    "    (12, 'all', 'zero-shot-rotated'),\n",
    "    (12, 'all', 'zero-shot-task-lang-rotated'),\n",
    "    (12, 'all', 'zero-shot-embs-rotated'),\n",
    "    (12, 'all', 'zero-shot-rotated-adversarial'),\n",
    "    (12, 'ml-3', 'zero-shot-char-level'),\n",
    "    (12, 'all', 'zero-shot-char-level'),\n",
    "    (12, 'all', 'zero-shot-task-lang-char-level'),        \n",
    "    (12, 'all', 'zero-shot-embs-char-level'),\n",
    "    (12, 'all', 'zero-shot-char-level-adversarial'),\n",
    "], simple_baseline)\n",
    "\n",
    "for row in tabl:\n",
    "    for num in row:\n",
    "        print(' & ', f'{num:.2f}', end='')\n",
    "    print(' \\\\\\\\')"
   ]
  },
  {
   "cell_type": "code",
   "execution_count": null,
   "metadata": {},
   "outputs": [],
   "source": [
    "tabl = gen_table([\n",
    "    (12, 'ml-3', 'zero-shot'),\n",
    "    (12, 'all', 'zero-shot'),\n",
    "    (12, 'all', 'zero-shot-limited-task-200'),\n",
    "    (12, 'all', 'zero-shot-task-lang-limited-task-200'),\n",
    "    (12, 'all', 'zero-shot-embs-limited-task-200'),\n",
    "    (12, 'all', 'zero-shot-adversarial-limited-task-200'),\n",
    "    (12, 'all', 'zero-shot-limited-lang-200'),\n",
    "    (12, 'all', 'zero-shot-task-lang-limited-lang-200'),\n",
    "    (12, 'all', 'zero-shot-embs-limited-lang-200'),\n",
    "    (12, 'all', 'zero-shot-adversarial-limited-lang-200'),\n",
    "], simple_baseline)\n",
    "\n",
    "for row in tabl:\n",
    "    for num in row:\n",
    "        print(' & ', f'{num:.2f}', end='')\n",
    "    print(' \\\\\\\\')"
   ]
  },
  {
   "cell_type": "code",
   "execution_count": 6,
   "metadata": {
    "pycharm": {
     "is_executing": false
    }
   },
   "outputs": [
    {
     "ename": "IndexError",
     "evalue": "list index out of range",
     "output_type": "error",
     "traceback": [
      "\u001b[0;31m---------------------------------------------------------------------------\u001b[0m",
      "\u001b[0;31mIndexError\u001b[0m                                Traceback (most recent call last)",
      "\u001b[0;32m<ipython-input-6-d4b5a4026f57>\u001b[0m in \u001b[0;36m<module>\u001b[0;34m\u001b[0m\n\u001b[0;32m----> 1\u001b[0;31m \u001b[0mtempo\u001b[0m\u001b[0;34m(\u001b[0m\u001b[0;34m'low-resource'\u001b[0m\u001b[0;34m,\u001b[0m \u001b[0;34m'stsl'\u001b[0m\u001b[0;34m)\u001b[0m\u001b[0;34m\u001b[0m\u001b[0;34m\u001b[0m\u001b[0m\n\u001b[0m\u001b[1;32m      2\u001b[0m \u001b[0;34m\u001b[0m\u001b[0m\n\u001b[1;32m      3\u001b[0m \u001b[0;31m# tabl = gen_table([\u001b[0m\u001b[0;34m\u001b[0m\u001b[0;34m\u001b[0m\u001b[0;34m\u001b[0m\u001b[0m\n\u001b[1;32m      4\u001b[0m \u001b[0;31m#         (12, 'stsl', 'low-resource'),\u001b[0m\u001b[0;34m\u001b[0m\u001b[0;34m\u001b[0m\u001b[0;34m\u001b[0m\u001b[0m\n\u001b[1;32m      5\u001b[0m \u001b[0;31m#         (12, 'ml-3', 'low-resource'),\u001b[0m\u001b[0;34m\u001b[0m\u001b[0;34m\u001b[0m\u001b[0;34m\u001b[0m\u001b[0m\n",
      "\u001b[0;32m<ipython-input-3-cac79f8772b4>\u001b[0m in \u001b[0;36mtempo\u001b[0;34m(name, type, mean)\u001b[0m\n\u001b[1;32m     90\u001b[0m \u001b[0;34m\u001b[0m\u001b[0m\n\u001b[1;32m     91\u001b[0m \u001b[0;32mdef\u001b[0m \u001b[0mtempo\u001b[0m\u001b[0;34m(\u001b[0m\u001b[0mname\u001b[0m\u001b[0;34m,\u001b[0m \u001b[0mtype\u001b[0m\u001b[0;34m=\u001b[0m\u001b[0;34m'all'\u001b[0m\u001b[0;34m,\u001b[0m \u001b[0mmean\u001b[0m\u001b[0;34m=\u001b[0m\u001b[0;32mTrue\u001b[0m\u001b[0;34m)\u001b[0m\u001b[0;34m:\u001b[0m\u001b[0;34m\u001b[0m\u001b[0;34m\u001b[0m\u001b[0m\n\u001b[0;32m---> 92\u001b[0;31m     \u001b[0mout\u001b[0m \u001b[0;34m=\u001b[0m \u001b[0mnp_results\u001b[0m\u001b[0;34m(\u001b[0m\u001b[0mname\u001b[0m\u001b[0;34m,\u001b[0m \u001b[0mtype\u001b[0m\u001b[0;34m)\u001b[0m\u001b[0;34m\u001b[0m\u001b[0;34m\u001b[0m\u001b[0m\n\u001b[0m\u001b[1;32m     93\u001b[0m     \u001b[0;32mfor\u001b[0m \u001b[0mvalue\u001b[0m \u001b[0;32min\u001b[0m \u001b[0mout\u001b[0m\u001b[0;34m:\u001b[0m\u001b[0;34m\u001b[0m\u001b[0;34m\u001b[0m\u001b[0m\n\u001b[1;32m     94\u001b[0m         \u001b[0mprint\u001b[0m\u001b[0;34m(\u001b[0m\u001b[0;34mf'{value:.2f} '\u001b[0m\u001b[0;34m,\u001b[0m \u001b[0mend\u001b[0m\u001b[0;34m=\u001b[0m\u001b[0;34m''\u001b[0m\u001b[0;34m)\u001b[0m\u001b[0;34m\u001b[0m\u001b[0;34m\u001b[0m\u001b[0m\n",
      "\u001b[0;32m<ipython-input-3-cac79f8772b4>\u001b[0m in \u001b[0;36mnp_results\u001b[0;34m(name, type, focused)\u001b[0m\n\u001b[1;32m     69\u001b[0m         \u001b[0mlangs\u001b[0m\u001b[0;34m=\u001b[0m\u001b[0mlangs\u001b[0m\u001b[0;34m,\u001b[0m\u001b[0;34m\u001b[0m\u001b[0;34m\u001b[0m\u001b[0m\n\u001b[1;32m     70\u001b[0m         \u001b[0mvalues_only\u001b[0m\u001b[0;34m=\u001b[0m\u001b[0;32mTrue\u001b[0m\u001b[0;34m,\u001b[0m\u001b[0;34m\u001b[0m\u001b[0;34m\u001b[0m\u001b[0m\n\u001b[0;32m---> 71\u001b[0;31m         \u001b[0mfocused\u001b[0m\u001b[0;34m=\u001b[0m\u001b[0mfocused\u001b[0m\u001b[0;34m\u001b[0m\u001b[0;34m\u001b[0m\u001b[0m\n\u001b[0m\u001b[1;32m     72\u001b[0m     )\n\u001b[1;32m     73\u001b[0m \u001b[0;34m\u001b[0m\u001b[0m\n",
      "\u001b[0;32m<ipython-input-3-cac79f8772b4>\u001b[0m in \u001b[0;36mresults\u001b[0;34m(runs, tasks, langs, focused, values_only)\u001b[0m\n\u001b[1;32m     54\u001b[0m     \u001b[0;32mif\u001b[0m \u001b[0mvalues_only\u001b[0m\u001b[0;34m:\u001b[0m\u001b[0;34m\u001b[0m\u001b[0;34m\u001b[0m\u001b[0m\n\u001b[1;32m     55\u001b[0m         return np.array([\n\u001b[0;32m---> 56\u001b[0;31m             \u001b[0mlist\u001b[0m\u001b[0;34m(\u001b[0m\u001b[0mrun\u001b[0m\u001b[0;34m.\u001b[0m\u001b[0mvalues\u001b[0m\u001b[0;34m(\u001b[0m\u001b[0;34m)\u001b[0m\u001b[0;34m)\u001b[0m\u001b[0;34m[\u001b[0m\u001b[0;36m0\u001b[0m\u001b[0;34m]\u001b[0m\u001b[0;34m[\u001b[0m\u001b[0;36m0\u001b[0m\u001b[0;34m]\u001b[0m \u001b[0;32mfor\u001b[0m \u001b[0mrun\u001b[0m \u001b[0;32min\u001b[0m \u001b[0mout\u001b[0m\u001b[0;34m.\u001b[0m\u001b[0mvalues\u001b[0m\u001b[0;34m(\u001b[0m\u001b[0;34m)\u001b[0m\u001b[0;34m\u001b[0m\u001b[0;34m\u001b[0m\u001b[0m\n\u001b[0m\u001b[1;32m     57\u001b[0m         ])\n\u001b[1;32m     58\u001b[0m     \u001b[0;32melse\u001b[0m\u001b[0;34m:\u001b[0m\u001b[0;34m\u001b[0m\u001b[0;34m\u001b[0m\u001b[0m\n",
      "\u001b[0;32m<ipython-input-3-cac79f8772b4>\u001b[0m in \u001b[0;36m<listcomp>\u001b[0;34m(.0)\u001b[0m\n\u001b[1;32m     54\u001b[0m     \u001b[0;32mif\u001b[0m \u001b[0mvalues_only\u001b[0m\u001b[0;34m:\u001b[0m\u001b[0;34m\u001b[0m\u001b[0;34m\u001b[0m\u001b[0m\n\u001b[1;32m     55\u001b[0m         return np.array([\n\u001b[0;32m---> 56\u001b[0;31m             \u001b[0mlist\u001b[0m\u001b[0;34m(\u001b[0m\u001b[0mrun\u001b[0m\u001b[0;34m.\u001b[0m\u001b[0mvalues\u001b[0m\u001b[0;34m(\u001b[0m\u001b[0;34m)\u001b[0m\u001b[0;34m)\u001b[0m\u001b[0;34m[\u001b[0m\u001b[0;36m0\u001b[0m\u001b[0;34m]\u001b[0m\u001b[0;34m[\u001b[0m\u001b[0;36m0\u001b[0m\u001b[0;34m]\u001b[0m \u001b[0;32mfor\u001b[0m \u001b[0mrun\u001b[0m \u001b[0;32min\u001b[0m \u001b[0mout\u001b[0m\u001b[0;34m.\u001b[0m\u001b[0mvalues\u001b[0m\u001b[0;34m(\u001b[0m\u001b[0;34m)\u001b[0m\u001b[0;34m\u001b[0m\u001b[0;34m\u001b[0m\u001b[0m\n\u001b[0m\u001b[1;32m     57\u001b[0m         ])\n\u001b[1;32m     58\u001b[0m     \u001b[0;32melse\u001b[0m\u001b[0;34m:\u001b[0m\u001b[0;34m\u001b[0m\u001b[0;34m\u001b[0m\u001b[0m\n",
      "\u001b[0;31mIndexError\u001b[0m: list index out of range"
     ]
    }
   ],
   "source": [
    "tempo('low-resource', 'stsl')\n",
    "\n",
    "# tabl = gen_table([\n",
    "#         (12, 'stsl', 'low-resource'),\n",
    "#         (12, 'ml-3', 'low-resource'),\n",
    "#         (12, 'mt-3', 'low-resource'),\n",
    "#         (12, 'rel', 'low-resource'),\n",
    "#         (12, 'all', 'low-resource'),\n",
    "#         (12, 'all', 'low-resource-task-lang'),\n",
    "#         (12, 'all', 'low-resource-embs'),\n",
    "#         (12, 'all', 'low-resource-adversarial'),\n",
    "# ], simple_baseline)\n",
    "# \n",
    "# for row in tabl:\n",
    "#     for num in row:\n",
    "#         print(' & ', f'{num:.2f}', end='')\n",
    "#     print(' \\\\\\\\')\n"
   ]
  },
  {
   "cell_type": "code",
   "execution_count": 14,
   "metadata": {},
   "outputs": [
    {
     "name": "stdout",
     "output_type": "stream",
     "text": [
      "pos & pos & pos & dep & ner & dep & dep & ner & ner & pos & ner & pos & pos & dep & dep & dep & ner & pos & pos & dep\n",
      "es & de & es & cs & en & es & cs & en & es & cs & es & cs & cs & es & en & en & en & en & de & cs\n",
      "dep & ner & lmo & ner & dep & ner & lmo & dep & lmo & ner & dep & ner & dep & lmo & pos & ner & dep & lmo & dep & pos\n",
      "cs & es & cs & en & de & de & es & cs & cs & en & en & de & es & de & es & es & es & es & en & es\n"
     ]
    }
   ],
   "source": [
    "fours = [\n",
    "    ['pos-es', 'pos-cs', 'dep-es', 'dep-cs'],\n",
    "    ['pos-de', 'pos-es', 'ner-de', 'ner-es'],\n",
    "    ['pos-es', 'pos-cs', 'lmo-es', 'lmo-cs'],\n",
    "    ['dep-cs', 'dep-en', 'ner-cs', 'ner-en'],\n",
    "    ['ner-en', 'ner-de', 'dep-en', 'dep-de'],\n",
    "    ['dep-es', 'dep-de', 'ner-es', 'ner-de'],\n",
    "    ['dep-cs', 'dep-es', 'lmo-cs', 'lmo-es'],\n",
    "    ['ner-en', 'ner-cs', 'dep-en', 'dep-cs'],\n",
    "    ['ner-es', 'ner-cs', 'lmo-es', 'lmo-cs'],\n",
    "    ['pos-cs', 'pos-en', 'ner-cs', 'ner-en'],\n",
    "    ['ner-es', 'ner-en', 'dep-es', 'dep-en'],\n",
    "    ['pos-cs', 'pos-de', 'ner-cs', 'ner-de'],\n",
    "    ['pos-cs', 'pos-es', 'dep-cs', 'dep-es'],\n",
    "    ['dep-es', 'dep-de', 'lmo-es', 'lmo-de'],\n",
    "    ['dep-en', 'dep-es', 'pos-en', 'pos-es'],\n",
    "    ['dep-en', 'dep-es', 'ner-en', 'ner-es'],\n",
    "    ['ner-en', 'ner-es', 'dep-en', 'dep-es'],\n",
    "    ['pos-en', 'pos-es', 'lmo-en', 'lmo-es'],\n",
    "    ['pos-de', 'pos-en', 'dep-de', 'dep-en'],\n",
    "    ['dep-cs', 'dep-es', 'pos-cs', 'pos-es'],\n",
    "]\n",
    "fours = [f[0].split('-') + f[-1].split('-') for f in fours]\n",
    "for i in range(4):\n",
    "    print(' & '.join(f[i] for f in fours))\n"
   ]
  },
  {
   "cell_type": "code",
   "execution_count": null,
   "metadata": {},
   "outputs": [],
   "source": []
  }
 ],
 "metadata": {
  "kernelspec": {
   "display_name": "Python 3",
   "language": "python",
   "name": "python3"
  },
  "language_info": {
   "codemirror_mode": {
    "name": "ipython",
    "version": 3
   },
   "file_extension": ".py",
   "mimetype": "text/x-python",
   "name": "python",
   "nbconvert_exporter": "python",
   "pygments_lexer": "ipython3",
   "version": "3.6.8"
  },
  "pycharm": {
   "stem_cell": {
    "cell_type": "raw",
    "metadata": {
     "collapsed": false
    },
    "source": []
   }
  }
 },
 "nbformat": 4,
 "nbformat_minor": 2
}
