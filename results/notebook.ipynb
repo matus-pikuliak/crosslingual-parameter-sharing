{
 "cells": [
  {
   "cell_type": "code",
   "execution_count": 1,
   "metadata": {},
   "outputs": [],
   "source": [
    "# %matplotlib inline\n",
    "%load_ext autoreload\n",
    "%autoreload 2"
   ]
  },
  {
   "cell_type": "code",
   "execution_count": 18,
   "metadata": {},
   "outputs": [],
   "source": [
    "import matplotlib\n",
    "import matplotlib.pyplot as plt\n",
    "\n",
    "import glob\n",
    "import itertools\n",
    "import os\n",
    "\n",
    "import sys\n",
    "sys.path.append('..')\n",
    "\n",
    "from run import Run\n",
    "from run_db import db as run_db\n",
    "from run_utils import init_runs, find_runs\n",
    "\n",
    "tasks = ['dep', 'lmo', 'ner', 'pos']\n",
    "langs = ['cs', 'de', 'en', 'es']\n",
    "\n",
    "log_path = '/home/fiit/logs/'\n",
    "\n",
    "runs = init_runs(log_path, run_db)"
   ]
  },
  {
   "cell_type": "code",
   "execution_count": 11,
   "metadata": {},
   "outputs": [],
   "source": [
    "def draw_graphs(runs, tasks, langs, role, metric=None, focused=False, label=None):\n",
    "    \n",
    "    if label is None:\n",
    "        label = lambda run: f'{run.name}-{run.type}'\n",
    "    \n",
    "    fig, axes = plt.subplots(\n",
    "        len(tasks),\n",
    "        len(langs),\n",
    "        figsize=(5*len(langs), 4*len(tasks)),\n",
    "        squeeze=False)\n",
    "\n",
    "    for ax_row, task in zip(axes, tasks):\n",
    "        for ax, lang in zip(ax_row, langs):\n",
    "            for run in runs:\n",
    "                if not focused or run.config['focus_on'] == f'{task}-{lang}':\n",
    "                    history = run.history(\n",
    "                        metric=metric,\n",
    "                        task=task,\n",
    "                        language=lang,\n",
    "                        role=role)\n",
    "                    ax.plot(list(history), label=label(run))\n",
    "\n",
    "    for ax, lang in zip(axes[0], langs):\n",
    "        ax.set_title(lang)\n",
    "\n",
    "    for ax, task in zip(axes[:, 0], tasks):\n",
    "        ax.set_ylabel(task, rotation=0, size='large')\n",
    "        \n",
    "    for ax_row in axes:\n",
    "        for ax in ax_row:\n",
    "            ax.legend()\n",
    "\n",
    "    plt.show()\n",
    "\n",
    "    \n",
    "def results(runs, tasks, langs, focused=True, values_only=False):\n",
    "    \n",
    "    def get_results(run):\n",
    "        out = {}\n",
    "        for task, lang in itertools.product(tasks, langs):\n",
    "            run.load()\n",
    "            if not focused or run.config['focus_on'] == f'{task}-{lang}':\n",
    "                res, epoch = run.metric_eval(task=task, language=lang)\n",
    "                if res <= 1.01:\n",
    "                    res *= 100\n",
    "                out[(task, lang)] = res, epoch\n",
    "        return out\n",
    "    \n",
    "    out = {\n",
    "        run: get_results(run)\n",
    "        for run in runs}\n",
    "    \n",
    "    if values_only:\n",
    "        return [list(run.values())[0][0] for run in out.values()]\n",
    "    else:\n",
    "        return out\n",
    "\n",
    "# tmp_runs = find_runs(runs, name='zero-shot-task-lang-ortho-10')\n",
    "# res = results(tmp_runs, tasks, langs, focused=True)\n",
    "# print(list(res.values()))"
   ]
  },
  {
   "cell_type": "code",
   "execution_count": 12,
   "metadata": {},
   "outputs": [],
   "source": [
    "import numpy as np\n",
    "\n",
    "def tempo(name, type='all'):    \n",
    "    out = results(\n",
    "        runs=find_runs(\n",
    "            runs,\n",
    "            type=type,\n",
    "            name=name\n",
    "        ),\n",
    "        tasks=tasks,\n",
    "        langs=langs,\n",
    "        values_only=True\n",
    "    )\n",
    "    for value in out:\n",
    "        print(f'{value:.2f} ', end='')\n",
    "    print(np.round([np.mean(out[:4]), np.mean(out[4:8]), np.mean(out[8:])], decimals=2))\n"
   ]
  },
  {
   "cell_type": "code",
   "execution_count": 13,
   "metadata": {},
   "outputs": [
    {
     "name": "stdout",
     "output_type": "stream",
     "text": [
      "49.37 57.57 48.39 81.51 84.35 86.67 73.18\n",
      "60.08 66.73 61.53 67.83 68.99 64.72 74.82\n",
      "50.60 52.56 47.21 54.21 56.60 43.19 66.19\n",
      "22.65 23.97 22.60 24.86 27.45 25.11 37.19\n",
      "46.28 47.66 47.70 47.37 46.99 47.68 48.10\n",
      "20.13 16.41 20.04 26.26 35.77 29.42 47.25\n",
      "22.70 22.05 21.74 23.67 33.09 21.93 40.75\n",
      "44.87 41.23 42.86 45.09 45.47 49.44 47.23\n",
      "38.92 42.72 39.72 48.34 48.79 30.72 58.35\n",
      "62.04 67.09 62.05 64.51 67.51 65.12 71.72\n",
      "30.36 32.69 30.28 47.93 46.32 22.29 51.61\n",
      "56.61 64.42 62.70 66.67 66.54 63.83 71.50\n",
      "58.53 63.15 59.64 78.45 80.83 81.18 80.64\n",
      "22.37 20.42 22.53 24.13 31.67 16.91 53.89\n",
      "31.31 35.42 30.60 37.00 52.58 49.25 52.51\n",
      "31.08 27.65 31.58 27.37 37.67 33.11 42.51\n",
      "44.00 43.05 42.02 45.82 46.98 43.64 44.64\n",
      "62.49 69.67 59.84 69.72 69.68 55.69 73.61\n",
      "70.70 77.97 72.97 82.37 82.51 87.24 86.27\n",
      "24.46 23.35 23.05 33.84 45.11 45.67 51.33\n"
     ]
    }
   ],
   "source": [
    "two_by_two = results(\n",
    "    runs=find_runs(\n",
    "        runs,\n",
    "        type='var',\n",
    "        name='zero-shot-two-by-two'\n",
    "    ),\n",
    "    tasks=tasks,\n",
    "    langs=langs,\n",
    "    values_only=True\n",
    ")\n",
    "\n",
    "adv = results(\n",
    "    runs=find_runs(\n",
    "        runs,\n",
    "        type='var',\n",
    "        name='zero-shot-two-by-two-adversarial'\n",
    "    ),\n",
    "    tasks=tasks,\n",
    "    langs=langs,\n",
    "    values_only=True\n",
    ")\n",
    "\n",
    "for i, val in enumerate(two_by_two):\n",
    "    print(f'{val:.2f}', end=' ')\n",
    "    if i % 6 == 5:\n",
    "        print(f'{adv[i // 6]:.2f}')"
   ]
  },
  {
   "cell_type": "code",
   "execution_count": 22,
   "metadata": {
    "scrolled": true
   },
   "outputs": [
    {
     "name": "stdout",
     "output_type": "stream",
     "text": [
      "30.47 44.76 47.75 32.02 40.17 55.91 47.83 53.27 65.78 77.66 75.05 57.72 [38.75 49.3  69.05]\n",
      "33.39 43.37 42.19 30.59 45.61 60.49 50.18 56.22 76.32 78.95 80.87 73.21 [37.38 53.13 77.34]\n",
      "43.61 54.03 44.38 42.97 49.11 62.71 53.12 61.54 83.12 85.02 83.40 84.81 [46.25 56.62 84.09]\n",
      "44.83 56.08 50.71 46.38 52.53 63.76 52.87 60.99 81.49 86.25 83.30 86.39 [49.5  57.54 84.36]\n",
      "\n",
      "43.61 54.03 44.38 42.97 49.11 62.71 53.12 61.54 83.12 85.02 83.40 84.81 [46.25 56.62 84.09]\n",
      "49.54 57.50 53.45 52.26 46.78 60.81 52.86 60.94 86.73 86.62 82.47 89.78 [53.19 55.35 86.4 ]\n",
      "43.55 52.70 54.30 52.26 45.55 64.55 54.03 61.14 74.89 82.79 78.18 76.49 [50.7  56.32 78.09]\n",
      "51.29 59.22 58.05 59.85 48.45 64.84 51.38 60.87 83.85 86.84 82.43 87.46 [57.1  56.38 85.14]\n",
      "52.35 59.90 58.58 60.65 49.63 64.72 53.51 62.35 85.55 87.19 82.35 88.71 [57.87 57.55 85.95]\n",
      "\n",
      "52.35 59.90 58.58 60.65 49.63 64.72 53.51 62.35 85.55 87.19 82.35 88.71 [57.87 57.55 85.95]\n",
      "52.62 60.34 59.05 61.11 48.68 63.43 53.70 62.73 84.94 87.71 82.69 89.00 [58.28 57.13 86.08]\n",
      "52.94 58.65 59.16 61.52 47.62 62.48 54.40 61.66 84.88 85.45 81.89 86.16 [58.07 56.54 84.59]\n",
      "54.68 60.50 58.07 60.84 49.29 64.10 54.31 62.18 84.75 87.78 82.86 87.10 [58.52 57.47 85.62]\n",
      "53.18 59.66 57.12 61.60 48.69 64.19 54.55 60.34 85.26 87.54 81.86 88.00 [57.89 56.94 85.67]\n",
      "50.74 59.97 56.55 60.56 44.56 62.87 53.75 60.29 85.12 86.41 82.03 88.14 [56.96 55.36 85.42]\n",
      "\n",
      "51.29 59.22 58.05 59.85 48.45 64.84 51.38 60.87 83.85 86.84 82.43 87.46 [57.1  56.38 85.14]\n",
      "51.39 57.07 57.82 61.37 45.36 61.01 52.53 61.72 83.79 87.51 81.65 88.35 [56.91 55.16 85.32]\n",
      "52.37 57.78 56.87 60.31 47.87 64.88 52.13 59.94 84.59 87.05 80.28 87.36 [56.83 56.2  84.82]\n",
      "51.99 57.28 57.39 60.03 45.14 63.86 53.44 55.87 85.43 87.12 81.24 87.46 [56.67 54.58 85.31]\n",
      "\n",
      "43.61 54.03 44.38 42.97 49.11 62.71 53.12 61.54 83.12 85.02 83.40 84.81 [46.25 56.62 84.09]\n",
      "50.35 58.86 60.27 61.68 50.07 63.32 53.26 59.68 83.32 86.40 83.49 86.14 [57.79 56.58 84.84]\n",
      "49.12 54.32 49.56 49.24 48.72 63.91 53.42 60.34 83.20 87.13 82.83 88.09 [50.56 56.6  85.32]\n",
      "54.41 60.81 58.09 60.51 50.44 64.50 53.49 61.75 82.40 85.72 84.21 87.17 [58.45 57.54 84.88]\n",
      "56.38 61.49 60.30 62.30 49.43 64.20 53.58 61.83 83.65 86.17 83.81 88.04 [60.12 57.26 85.42]\n",
      "50.80 59.95 59.97 62.35 50.79 64.97 54.02 59.63 85.54 87.42 82.27 88.94 [58.27 57.35 86.04]\n",
      "\n",
      "30.47 44.76 47.75 32.02 40.17 55.91 47.83 53.27 65.78 77.66 75.05 57.72 [38.75 49.3  69.05]\n",
      "43.61 54.03 44.38 42.97 49.11 62.71 53.12 61.54 83.12 85.02 83.40 84.81 [46.25 56.62 84.09]\n",
      "54.41 60.81 58.09 60.51 50.44 64.50 53.49 61.75 82.40 85.72 84.21 87.17 [58.45 57.54 84.88]\n",
      "52.35 59.90 58.58 60.65 49.63 64.72 53.51 62.35 85.55 87.19 82.35 88.71 [57.87 57.55 85.95]\n",
      "\n",
      "2.56 2.31 3.12 2.21 0.40 1.27 1.43 0.00 13.07 13.89 17.93 10.21 [ 2.55  0.77 13.78]\n",
      "30.04 29.03 30.77 28.51 25.06 21.86 12.44 25.07 55.91 59.66 63.06 76.97 [29.59 21.11 63.9 ]\n",
      "41.67 45.79 43.28 45.47 20.19 28.86 16.02 17.95 58.84 66.20 56.07 71.71 [44.05 20.76 63.2 ]\n",
      "44.03 50.76 44.35 55.38 33.23 45.08 34.96 34.52 76.40 76.39 71.32 84.47 [48.63 36.95 77.15]\n",
      "\n",
      "9.96 11.51 20.86 17.96 31.07 17.31 36.69 42.91 43.70 35.00 44.03 43.76 [15.07 32.   41.62]\n",
      "38.13 37.51 39.38 46.74 39.13 24.70 39.74 51.38 78.34 56.36 70.85 77.44 [40.44 38.74 70.75]\n",
      "42.89 47.23 48.85 55.03 37.29 21.02 39.82 50.05 79.48 62.68 73.22 79.25 [48.5  37.04 73.66]\n",
      "48.33 56.93 47.93 58.96 39.33 28.71 36.22 45.68 80.55 78.21 76.43 85.91 [53.04 37.48 80.27]\n",
      "\n",
      "43.61 54.03 44.38 42.97 49.11 62.71 53.12 61.54 83.12 85.02 83.40 84.81 [46.25 56.62 84.09]\n",
      "55.44 60.04 57.80 62.83 49.47 64.84 53.09 61.64 82.62 86.56 83.61 86.38 [59.03 57.26 84.79]\n",
      "41.18 54.91 44.05 53.30 49.03 63.94 52.87 61.77 80.00 85.04 80.23 83.18 [48.36 56.9  82.11]\n"
     ]
    }
   ],
   "source": [
    "tempo('zero-shot', 'ml-3')\n",
    "tempo('zero-shot', 'rel')\n",
    "tempo('zero-shot')\n",
    "tempo('zero-shot-400')\n",
    "print()\n",
    "tempo('zero-shot')\n",
    "tempo('zero-shot-task')\n",
    "tempo('zero-shot-lang')\n",
    "tempo('zero-shot-task-lang-no-global')\n",
    "tempo('zero-shot-task-lang')\n",
    "print()\n",
    "tempo('zero-shot-task-lang')\n",
    "tempo('zero-shot-task-lang-ortho-10')\n",
    "tempo('zero-shot-task-lang-ortho-25')\n",
    "tempo('zero-shot-task-lang-ortho-50')\n",
    "tempo('zero-shot-task-lang-ortho-100')\n",
    "tempo('zero-shot-task-lang-ortho-200')\n",
    "print()\n",
    "tempo('zero-shot-task-lang-no-global')\n",
    "tempo('zero-shot-task-lang-no-global-ortho-50')\n",
    "tempo('zero-shot-task-lang-no-global-ortho-100')\n",
    "tempo('zero-shot-task-lang-no-global-ortho-200')\n",
    "print()\n",
    "tempo('zero-shot')\n",
    "tempo('zero-shot-task-emb')\n",
    "tempo('zero-shot-lang-emb')\n",
    "tempo('zero-shot-embs')\n",
    "tempo('zero-shot-embs-400')\n",
    "tempo('zero-shot-task-lang-both-embs')\n",
    "print()\n",
    "tempo('zero-shot', 'ml-3')\n",
    "tempo('zero-shot')\n",
    "tempo('zero-shot-embs')\n",
    "tempo('zero-shot-task-lang')\n",
    "print()\n",
    "tempo('zero-shot-rotated', 'ml-3')\n",
    "tempo('zero-shot-rotated')\n",
    "tempo('zero-shot-embs-rotated')\n",
    "tempo('zero-shot-task-lang-rotated')\n",
    "print()\n",
    "tempo('zero-shot-char-level', 'ml-3')\n",
    "tempo('zero-shot-char-level')\n",
    "tempo('zero-shot-embs-char-level')\n",
    "tempo('zero-shot-task-lang-char-level')\n",
    "print()\n",
    "tempo('zero-shot')\n",
    "tempo('zero-shot-adversarial')\n",
    "tempo('zero-shot-adversarial-embs')"
   ]
  },
  {
   "cell_type": "code",
   "execution_count": 21,
   "metadata": {},
   "outputs": [
    {
     "name": "stdout",
     "output_type": "stream",
     "text": [
      "43.61 54.03 44.38 42.97 49.11 62.71 53.12 61.54 83.12 85.02 83.40 84.81 [46.25 56.62 84.09]\n",
      "55.44 60.04 57.80 62.83 49.47 64.84 53.09 61.64 82.62 86.56 83.61 86.38 [59.03 57.26 84.79]\n",
      "41.18 54.91 44.05 53.30 49.03 63.94 52.87 61.77 80.00 85.04 80.23 83.18 [48.36 56.9  82.11]\n",
      "50.57 52.74 51.41 52.94 49.25 65.75 50.09 61.31 81.02 86.71 83.03 86.41 [51.92 56.6  84.29]\n"
     ]
    }
   ],
   "source": [
    "tempo('zero-shot')\n",
    "tempo('zero-shot-adversarial')\n",
    "tempo('zero-shot-adversarial-embs')\n",
    "tempo('zero-shot-adversarial-task-lang')"
   ]
  },
  {
   "cell_type": "code",
   "execution_count": 20,
   "metadata": {},
   "outputs": [
    {
     "name": "stdout",
     "output_type": "stream",
     "text": [
      "43.61 54.03 44.38 42.97 49.11 62.71 53.12 61.54 83.12 85.02 83.40 84.81 [46.25 56.62 84.09]\n",
      "55.44 60.04 57.80 62.83 49.47 64.84 53.09 61.64 82.62 86.56 83.61 86.38 [59.03 57.26 84.79]\n",
      "54.41 60.81 58.09 60.51 50.44 64.50 53.49 61.75 82.40 85.72 84.21 87.17 [58.45 57.54 84.88]\n",
      "52.35 59.90 58.58 60.65 49.63 64.72 53.51 62.35 85.55 87.19 82.35 88.71 [57.87 57.55 85.95]\n",
      "\n",
      "40.72 48.44 43.66 40.00 45.78 56.23 48.61 53.78 78.65 82.17 83.31 82.21 [43.2  51.1  81.59]\n",
      "49.81 54.56 52.13 55.22 46.07 58.93 48.33 50.12 78.40 80.81 81.00 83.29 [52.93 50.86 80.87]\n",
      "46.48 51.56 51.79 53.23 44.44 56.90 50.85 52.68 78.36 82.45 83.07 81.95 [50.76 51.22 81.46]\n",
      "41.47 48.86 47.09 52.06 47.31 56.52 51.64 47.46 81.94 82.56 79.40 84.78 [47.37 50.73 82.17]\n",
      "\n",
      "41.31 49.11 45.63 47.50 40.44 49.13 52.16 51.73 80.76 81.61 83.58 80.49 [45.89 48.37 81.61]\n",
      "50.23 57.92 55.10 58.59 46.40 61.05 51.44 58.40 81.56 85.01 84.19 85.74 [55.46 54.32 84.12]\n",
      "45.77 54.28 53.78 53.95 42.00 46.02 50.15 51.99 78.40 81.61 82.29 80.55 [51.95 47.54 80.71]\n",
      "40.51 47.15 52.27 54.45 33.06 45.27 53.51 55.85 81.09 80.29 81.29 83.52 [48.6  46.92 81.55]\n"
     ]
    }
   ],
   "source": [
    "tempo('zero-shot')\n",
    "tempo('zero-shot-adversarial')\n",
    "tempo('zero-shot-embs')\n",
    "tempo('zero-shot-task-lang')\n",
    "print()\n",
    "tempo('zero-shot-limited-task-200')\n",
    "tempo('zero-shot-adversarial-limited-task-200')\n",
    "tempo('zero-shot-embs-limited-task-200')\n",
    "tempo('zero-shot-task-lang-limited-task-200')\n",
    "print()\n",
    "tempo('zero-shot-limited-lang-200')\n",
    "tempo('zero-shot-adversarial-limited-lang-200')\n",
    "tempo('zero-shot-embs-limited-lang-200')\n",
    "tempo('zero-shot-task-lang-limited-lang-200')\n"
   ]
  },
  {
   "cell_type": "code",
   "execution_count": 19,
   "metadata": {},
   "outputs": [
    {
     "name": "stdout",
     "output_type": "stream",
     "text": [
      "50.02 50.85 [50.44   nan   nan]\n"
     ]
    },
    {
     "name": "stderr",
     "output_type": "stream",
     "text": [
      "/home/fiit/PycharmProjects/cll/.venv/lib/python3.6/site-packages/numpy/core/fromnumeric.py:2920: RuntimeWarning: Mean of empty slice.\n",
      "  out=out, **kwargs)\n",
      "/home/fiit/PycharmProjects/cll/.venv/lib/python3.6/site-packages/numpy/core/_methods.py:85: RuntimeWarning: invalid value encountered in double_scalars\n",
      "  ret = ret.dtype.type(ret / rcount)\n"
     ]
    }
   ],
   "source": [
    "tempo('no-dropout', 'var')"
   ]
  },
  {
   "cell_type": "code",
   "execution_count": null,
   "metadata": {},
   "outputs": [],
   "source": [
    "tmp = find_runs(runs, name='zero-shot')\n",
    "print(tmp[0].data[0])\n",
    "draw_graphs(tmp, tasks, langs, 'test', metric='loss', focused=True)\n"
   ]
  },
  {
   "cell_type": "code",
   "execution_count": 16,
   "metadata": {},
   "outputs": [
    {
     "name": "stdout",
     "output_type": "stream",
     "text": [
      "89.57 90.68 92.92 91.81 92.38 \n",
      "86.09 88.15 88.15 89.51 90.00 \n",
      "89.34 90.58 93.15 92.38 92.30 \n",
      "51.66 52.67 55.20 59.28 57.85 \n",
      "56.24 64.49 64.80 63.51 61.68 \n",
      "62.74 64.54 64.22 69.40 69.90 \n",
      "50.15 57.01 59.87 61.39 64.67 \n",
      "60.93 59.97 59.11 61.47 62.06 \n",
      "58.26 64.59 68.82 67.83 70.30 \n",
      "86.32 87.66 87.79 90.06 90.23 \n"
     ]
    }
   ],
   "source": [
    "oink = results(\n",
    "    runs=find_runs(\n",
    "        runs,\n",
    "        type='var',\n",
    "        name='low-resource'\n",
    "    ),\n",
    "    tasks=tasks,\n",
    "    langs=langs,\n",
    "    values_only=True\n",
    ")\n",
    "\n",
    "\n",
    "for i, val in enumerate(oink):\n",
    "    print(f'{val:.2f}', end=' ')\n",
    "    if i % 5 == 4:\n",
    "        print()"
   ]
  },
  {
   "cell_type": "code",
   "execution_count": null,
   "metadata": {},
   "outputs": [],
   "source": []
  }
 ],
 "metadata": {
  "kernelspec": {
   "display_name": "Python 3",
   "language": "python",
   "name": "python3"
  },
  "language_info": {
   "codemirror_mode": {
    "name": "ipython",
    "version": 3
   },
   "file_extension": ".py",
   "mimetype": "text/x-python",
   "name": "python",
   "nbconvert_exporter": "python",
   "pygments_lexer": "ipython3",
   "version": "3.6.6"
  }
 },
 "nbformat": 4,
 "nbformat_minor": 2
}
