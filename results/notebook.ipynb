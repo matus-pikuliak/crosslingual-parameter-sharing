{
 "cells": [
  {
   "cell_type": "code",
   "execution_count": 1,
   "metadata": {},
   "outputs": [],
   "source": [
    "# %matplotlib inline\n",
    "%load_ext autoreload\n",
    "%autoreload 2"
   ]
  },
  {
   "cell_type": "code",
   "execution_count": 23,
   "metadata": {},
   "outputs": [],
   "source": [
    "import glob\n",
    "import itertools\n",
    "import sys\n",
    "import os\n",
    "\n",
    "import matplotlib\n",
    "import matplotlib.pyplot as plt\n",
    "import numpy as np\n",
    "\n",
    "sys.path.append('..')\n",
    "\n",
    "from run import Run\n",
    "from run_db import db as run_db\n",
    "from run_utils import init_runs, find_runs\n",
    "\n",
    "tasks = ['dep', 'lmo', 'ner', 'pos']\n",
    "langs = ['cs', 'de', 'en', 'es']\n",
    "\n",
    "log_path = '/home/mpikuliak/logs/'\n",
    "\n",
    "runs = init_runs(log_path, run_db)\n",
    "\n",
    "np.set_printoptions(precision=2)"
   ]
  },
  {
   "cell_type": "code",
   "execution_count": 3,
   "metadata": {},
   "outputs": [
    {
     "name": "stdout",
     "output_type": "stream",
     "text": [
      "[86.51712732 76.41776356 82.4424392  85.47905546 69.05721193 78.51971038\n",
      " 81.48148148 79.70171514 97.60281313 92.61286751 94.36329058 96.22726861]\n"
     ]
    }
   ],
   "source": [
    "def draw_graphs(runs, tasks, langs, role, metric=None, focused=False, label=None):\n",
    "    \n",
    "    if label is None:\n",
    "        label = lambda run: f'{run.name}-{run.type}'\n",
    "    \n",
    "    fig, axes = plt.subplots(\n",
    "        len(tasks),\n",
    "        len(langs),\n",
    "        figsize=(5*len(langs), 4*len(tasks)),\n",
    "        squeeze=False)\n",
    "\n",
    "    for ax_row, task in zip(axes, tasks):\n",
    "        for ax, lang in zip(ax_row, langs):\n",
    "            for run in runs:\n",
    "                if not focused or run.config['focus_on'] == f'{task}-{lang}':\n",
    "                    history = run.history(\n",
    "                        metric=metric,\n",
    "                        task=task,\n",
    "                        language=lang,\n",
    "                        role=role)\n",
    "                    ax.plot(list(history), label=label(run))\n",
    "\n",
    "    for ax, lang in zip(axes[0], langs):\n",
    "        ax.set_title(lang)\n",
    "\n",
    "    for ax, task in zip(axes[:, 0], tasks):\n",
    "        ax.set_ylabel(task, rotation=0, size='large')\n",
    "        \n",
    "    for ax_row in axes:\n",
    "        for ax in ax_row:\n",
    "            ax.legend()\n",
    "\n",
    "    plt.show()\n",
    "\n",
    "    \n",
    "def results(runs, tasks, langs, focused=True, values_only=False):\n",
    "    \n",
    "    def get_results(run):\n",
    "        out = {}\n",
    "        for task, lang in itertools.product(tasks, langs):\n",
    "            run.load()\n",
    "            if (not focused and run.contains(task, lang)) or run.config['focus_on'] == f'{task}-{lang}':\n",
    "                res, epoch = run.metric_eval(task=task, language=lang)\n",
    "                if res <= 1.01:\n",
    "                    res *= 100\n",
    "                out[(task, lang)] = res, epoch\n",
    "        return out\n",
    "    \n",
    "    out = {\n",
    "        run: get_results(run)\n",
    "        for run in runs}\n",
    "    \n",
    "    if values_only:\n",
    "        return np.array([\n",
    "            list(run.values())[0][0] for run in out.values()\n",
    "        ])\n",
    "    else:\n",
    "        return out\n",
    "    \n",
    "def np_results(name, type='all', focused=True):\n",
    "    return results(\n",
    "        runs=find_runs(\n",
    "            runs,\n",
    "            type=type,\n",
    "            name=name\n",
    "        ),\n",
    "        tasks=tasks,\n",
    "        langs=langs,\n",
    "        values_only=True,\n",
    "        focused=focused\n",
    "    )\n",
    "\n",
    "def gen_table(runs, upper, baseline=None):\n",
    "    metrics = np.vstack([\n",
    "        np.array(np_results(code, type)) for _, type, code in runs\n",
    "    ])\n",
    "    \n",
    "    if baseline is None:\n",
    "        baseline = metrics[0]\n",
    "    aer = (metrics - baseline) / (upper - baseline)\n",
    "    \n",
    "    return np.vstack([\n",
    "        np.mean(metrics[:,:4], axis=1),\n",
    "        np.mean(metrics[:,4:8], axis=1),\n",
    "        np.mean(metrics[:,8:], axis=1),\n",
    "        np.mean(aer, axis=1)*100\n",
    "    ]).T\n",
    "\n",
    "\n",
    "def tempo(name, type='all', mean=True):    \n",
    "    out = np_results(name, type)\n",
    "    for value in out:\n",
    "        print(f'{value:.2f} ', end='')\n",
    "    if mean:\n",
    "        print(np.round([np.mean(out[:4]), np.mean(out[4:8]), np.mean(out[8:])], decimals=2), end='')\n",
    "    print()\n",
    "    \n",
    "simple_baseline = np_results('normal-training', 'stsl', focused=False)\n",
    "two_two_baseline = simple_baseline[[11, 9, 11, 0, 6, 3, 0, 6, 7, 8, 7, 8, 8, 3, 2, 2, 6, 10, 9, 0,]]\n",
    "print(simple_baseline)"
   ]
  },
  {
   "cell_type": "code",
   "execution_count": null,
   "metadata": {},
   "outputs": [],
   "source": [
    "two_by_two = results(\n",
    "    runs=find_runs(\n",
    "        runs,\n",
    "        type='var',\n",
    "        name='zero-shot-two-by-two'\n",
    "    ),\n",
    "    tasks=tasks,\n",
    "    langs=langs,\n",
    "    values_only=True\n",
    ")\n",
    "\n",
    "adv = results(\n",
    "    runs=find_runs(\n",
    "        runs,\n",
    "        type='var',\n",
    "        name='zero-shot-two-by-two-adversarial'\n",
    "    ),\n",
    "    tasks=tasks,\n",
    "    langs=langs,\n",
    "    values_only=True\n",
    ")\n",
    "\n",
    "for i, val in enumerate(two_by_two):\n",
    "    print(f'{val:.2f}', end=' ')\n",
    "    if i % 6 == 5:\n",
    "        print(f'{adv[i // 6]:.2f}')"
   ]
  },
  {
   "cell_type": "code",
   "execution_count": null,
   "metadata": {
    "scrolled": true
   },
   "outputs": [],
   "source": [
    "tempo('zero-shot-embs', 'rel')\n",
    "tempo('zero-shot-embs-again', 'rel')\n",
    "\n"
   ]
  },
  {
   "cell_type": "code",
   "execution_count": null,
   "metadata": {},
   "outputs": [],
   "source": [
    "tmp = find_runs(runs, name='zero-shot')\n",
    "print(tmp[0].data[0])\n",
    "draw_graphs(tmp, tasks, langs, 'test', metric='loss', focused=True)\n"
   ]
  },
  {
   "cell_type": "code",
   "execution_count": null,
   "metadata": {},
   "outputs": [],
   "source": [
    "tmp = results(\n",
    "    runs=find_runs(\n",
    "        runs,\n",
    "        type='var',\n",
    "        name='low-resource'\n",
    "    ),\n",
    "    tasks=tasks,\n",
    "    langs=langs,\n",
    "    values_only=True\n",
    ")\n",
    "\n",
    "tmp2 = results(\n",
    "    runs=find_runs(\n",
    "        runs,\n",
    "        type='var',\n",
    "        name='low-resource-2'\n",
    "    ),\n",
    "    tasks=tasks,\n",
    "    langs=langs,\n",
    "    values_only=True\n",
    ")\n",
    "\n",
    "tmpa = results(\n",
    "    runs=find_runs(\n",
    "        runs,\n",
    "        type='var',\n",
    "        name='low-resource-advanced'\n",
    "    ),\n",
    "    tasks=tasks,\n",
    "    langs=langs,\n",
    "    values_only=True\n",
    ")\n",
    "\n",
    "adv = iter(tmpa)\n",
    "baselines = iter(tmp[0::5] + tmp2[0::5])\n",
    "bsl = next(baselines)\n",
    "\n",
    "i = 0\n",
    "for r in tmp:\n",
    "    print(f'{r/bsl:.2f}', end=' ')\n",
    "    i += 1\n",
    "    if i % 5 == 0:\n",
    "        for _ in range(3):\n",
    "           print(f'{next(adv)/bsl:.2f}', end=' ')     \n",
    "        print()\n",
    "        bsl = next(baselines)\n",
    "for r in tmp2:\n",
    "    print(f'{r/bsl:.2f}', end=' ')\n",
    "    i += 1\n",
    "    if i % 5 == 0:\n",
    "        for _ in range(3):\n",
    "           print(f'{next(adv)/bsl:.2f}', end=' ')    \n",
    "        print()\n",
    "        bsl = next(baselines)\n",
    "\n"
   ]
  },
  {
   "cell_type": "code",
   "execution_count": null,
   "metadata": {},
   "outputs": [],
   "source": [
    "tmp = results(\n",
    "    runs=find_runs(\n",
    "        runs,\n",
    "        type='var',\n",
    "        name='zero-shot-two-by-two'\n",
    "    ),\n",
    "    tasks=tasks,\n",
    "    langs=langs,\n",
    "    values_only=True\n",
    ")\n",
    "\n",
    "tmpa = results(\n",
    "    runs=find_runs(\n",
    "        runs,\n",
    "        type='var',\n",
    "        name='zero-shot-two-by-two-adversarial'\n",
    "    ),\n",
    "    tasks=tasks,\n",
    "    langs=langs,\n",
    "    values_only=True\n",
    ")\n",
    "\n",
    "baselines = iter(tmp[0::6])\n",
    "bsl = next(baselines)\n",
    "adv = iter(tmpa)\n",
    "\n",
    "i = 0\n",
    "for r in tmp:\n",
    "    print(f'{r/bsl:.2f}', end=' ')\n",
    "    i += 1\n",
    "    if i % 6 == 0:\n",
    "        print(f'{next(adv)/bsl:.2f}')   \n",
    "        bsl = next(baselines)\n",
    "\n",
    "\n"
   ]
  },
  {
   "cell_type": "code",
   "execution_count": 4,
   "metadata": {
    "scrolled": true
   },
   "outputs": [
    {
     "name": "stdout",
     "output_type": "stream",
     "text": [
      "[[38.75 49.3  69.05  0.  ]\n",
      " [37.38 53.13 77.34 12.62]\n",
      " [36.57 47.84 68.95 -3.47]\n",
      " [46.25 56.62 84.09 32.4 ]\n",
      " [49.5  57.54 84.36 36.86]]\n",
      "[ 0.    7.01  0.28 18.11]\n"
     ]
    }
   ],
   "source": [
    "# Porovnanie CL, CL+CT, CL+Co, CL+CT+Co trenovania pre 4x4 a 2x2 nastavenie.\n",
    "print(gen_table([\n",
    "    (12, 'ml-3', 'zero-shot'),\n",
    "    (12, 'rel', 'zero-shot'),\n",
    "    (12, 'ml-unrel-12', 'zero-shot'),\n",
    "    (12, 'all', 'zero-shot'),\n",
    "    (12, 'all', 'zero-shot-400'),  \n",
    "], simple_baseline))\n",
    "                       \n",
    "\n",
    "\n",
    "mat = np_results('zero-shot-two-by-two', 'var')\n",
    "mat = np.reshape(mat, (20, 6))[:,:4].T\n",
    "# print(mat)\n",
    "mat = (mat - mat[0]) / (two_two_baseline - mat[0])\n",
    "mat = np.mean(mat, axis=1)\n",
    "print(mat*100)"
   ]
  },
  {
   "cell_type": "code",
   "execution_count": 10,
   "metadata": {},
   "outputs": [
    {
     "name": "stdout",
     "output_type": "stream",
     "text": [
      "[[38.75 49.3  69.05  0.  ]\n",
      " [53.19 55.35 86.4  38.7 ]\n",
      " [50.7  56.32 78.09 28.17]\n",
      " [57.1  56.38 85.14 42.14]\n",
      " [57.87 57.55 85.95 44.89]]\n",
      "[ 0.   13.82]\n"
     ]
    }
   ],
   "source": [
    "tabl = gen_table([\n",
    "    (12, 'ml-3', 'zero-shot'),\n",
    "    (12, 'all', 'zero-shot-task'),\n",
    "    (12, 'all', 'zero-shot-lang'),\n",
    "    (12, 'all', 'zero-shot-task-lang-no-global'), \n",
    "    (12, 'all', 'zero-shot-task-lang'),\n",
    "], simple_baseline)\n",
    "\n",
    "print(tabl)\n",
    "\n",
    "mat = np_results('zero-shot-two-by-two', 'var')\n",
    "mat = np.reshape(mat, (20, 6))[:,[0,-1]].T\n",
    "mat = (mat - mat[0]) / (two_two_baseline - mat[0])\n",
    "mat = np.mean(mat, axis=1)\n",
    "print(mat*100)\n",
    "                      "
   ]
  },
  {
   "cell_type": "code",
   "execution_count": 12,
   "metadata": {},
   "outputs": [
    {
     "name": "stdout",
     "output_type": "stream",
     "text": [
      "[[38.75 49.3  69.05  0.  ]\n",
      " [57.79 56.58 84.84 42.51]\n",
      " [50.56 56.6  85.32 37.21]\n",
      " [58.45 57.54 84.88 44.08]]\n",
      "[ 0.   25.33]\n"
     ]
    }
   ],
   "source": [
    "tabl = gen_table([\n",
    "    (12, 'ml-3', 'zero-shot'),\n",
    "    (12, 'all', 'zero-shot-task-emb'),\n",
    "    (12, 'all', 'zero-shot-lang-emb'),\n",
    "    (12, 'all', 'zero-shot-embs'),\n",
    "], simple_baseline)\n",
    "\n",
    "print(tabl)\n",
    "\n",
    "mat = np_results('zero-shot-two-by-two', 'var')\n",
    "mat = np.reshape(mat, (20, 6))[:,[0,-2]].T\n",
    "mat = (mat - mat[0]) / (two_two_baseline - mat[0])\n",
    "mat = np.mean(mat, axis=1)\n",
    "print(mat*100)\n"
   ]
  },
  {
   "cell_type": "code",
   "execution_count": 14,
   "metadata": {},
   "outputs": [
    {
     "name": "stdout",
     "output_type": "stream",
     "text": [
      "[[38.75 49.3  69.05  0.  ]\n",
      " [59.03 57.26 84.79 44.13]]\n",
      "[ 0.  35.5]\n"
     ]
    }
   ],
   "source": [
    "tabl = gen_table([\n",
    "    (12, 'ml-3', 'zero-shot'),\n",
    "    (12, 'all', 'zero-shot-adversarial'),\n",
    "], simple_baseline)\n",
    "\n",
    "print(tabl)\n",
    "\n",
    "mat = np.vstack([\n",
    "    np.reshape(\n",
    "        np_results('zero-shot-two-by-two', 'var'), (20, 6)\n",
    "    )[:,0],\n",
    "    np_results('zero-shot-two-by-two-adversarial', 'var')\n",
    "])\n",
    "mat = (mat - mat[0]) / (two_two_baseline - mat[0])\n",
    "mat = np.mean(mat, axis=1)\n",
    "print(mat*100)\n"
   ]
  },
  {
   "cell_type": "code",
   "execution_count": 16,
   "metadata": {},
   "outputs": [
    {
     "name": "stdout",
     "output_type": "stream",
     "text": [
      "[[38.75 49.3  69.05  0.  ]\n",
      " [57.87 57.55 85.95 44.89]\n",
      " [60.12 57.26 85.42 45.61]]\n"
     ]
    }
   ],
   "source": [
    "tabl = gen_table([\n",
    "    (12, 'ml-3', 'zero-shot'),\n",
    "    (12, 'all', 'zero-shot-task-lang'),\n",
    "    (12, 'all', 'zero-shot-embs-400'),\n",
    "    ...\n",
    "], simple_baseline)\n",
    "\n",
    "print(tabl)"
   ]
  },
  {
   "cell_type": "code",
   "execution_count": 28,
   "metadata": {},
   "outputs": [
    {
     "name": "stdout",
     "output_type": "stream",
     "text": [
      " &  38.75 &  49.30 &  69.05 &  0.00 \\\\\n",
      " &  46.25 &  56.62 &  84.09 &  32.40 \\\\\n",
      " &  2.55 &  0.77 &  13.78 &  -174.87 \\\\\n",
      " &  29.59 &  21.11 &  63.90 &  -57.02 \\\\\n",
      " &  48.63 &  36.95 &  77.15 &  -2.42 \\\\\n",
      " &  44.05 &  20.76 &  63.20 &  -45.16 \\\\\n",
      " &  47.97 &  27.05 &  66.73 &  -27.54 \\\\\n",
      " &  15.07 &  32.00 &  41.62 &  -89.29 \\\\\n",
      " &  40.44 &  38.74 &  70.75 &  -21.02 \\\\\n",
      " &  53.04 &  37.48 &  80.27 &  5.43 \\\\\n",
      " &  48.50 &  37.04 &  73.66 &  -11.23 \\\\\n",
      " &  53.61 &  44.95 &  75.86 &  8.75 \\\\\n"
     ]
    }
   ],
   "source": [
    "tabl = gen_table([\n",
    "    (12, 'ml-3', 'zero-shot'),\n",
    "    (12, 'all', 'zero-shot'),\n",
    "    (12, 'ml-3', 'zero-shot-rotated'),    \n",
    "    (12, 'all', 'zero-shot-rotated'),\n",
    "    (12, 'all', 'zero-shot-task-lang-rotated'),\n",
    "    (12, 'all', 'zero-shot-embs-rotated'),\n",
    "    (12, 'all', 'zero-shot-rotated-adversarial'),\n",
    "    (12, 'ml-3', 'zero-shot-char-level'),\n",
    "    (12, 'all', 'zero-shot-char-level'),\n",
    "    (12, 'all', 'zero-shot-task-lang-char-level'),        \n",
    "    (12, 'all', 'zero-shot-embs-char-level'),\n",
    "    (12, 'all', 'zero-shot-char-level-adversarial'),\n",
    "], simple_baseline)\n",
    "\n",
    "for row in tabl:\n",
    "    for num in row:\n",
    "        print(' & ', f'{num:.2f}', end='')\n",
    "    print(' \\\\\\\\')"
   ]
  },
  {
   "cell_type": "code",
   "execution_count": 29,
   "metadata": {},
   "outputs": [
    {
     "name": "stdout",
     "output_type": "stream",
     "text": [
      "[('deepnet5', 501), ('deepnet2070', 608), ('deepnet6-1', 36), ('deepnet6-2', 24)]\n",
      " &  38.75 &  49.30 &  69.05 &  0.00 \\\\\n",
      " &  46.25 &  56.62 &  84.09 &  32.40 \\\\\n",
      " &  43.20 &  51.10 &  81.59 &  19.60 \\\\\n",
      " &  47.37 &  50.73 &  82.17 &  21.77 \\\\\n",
      " &  50.76 &  51.22 &  81.46 &  25.27 \\\\\n",
      " &  52.93 &  50.86 &  80.87 &  25.23 \\\\\n",
      " &  45.89 &  48.37 &  81.61 &  17.56 \\\\\n",
      " &  48.60 &  46.92 &  81.55 &  16.70 \\\\\n",
      " &  51.95 &  47.54 &  80.71 &  20.27 \\\\\n",
      " &  55.46 &  54.32 &  84.12 &  36.74 \\\\\n"
     ]
    }
   ],
   "source": [
    "tabl = gen_table([\n",
    "    (12, 'ml-3', 'zero-shot'),\n",
    "    (12, 'all', 'zero-shot'),\n",
    "    (12, 'all', 'zero-shot-limited-task-200'),\n",
    "    (12, 'all', 'zero-shot-task-lang-limited-task-200'),\n",
    "    (12, 'all', 'zero-shot-embs-limited-task-200'),\n",
    "    (12, 'all', 'zero-shot-adversarial-limited-task-200'),\n",
    "    (12, 'all', 'zero-shot-limited-lang-200'),\n",
    "    (12, 'all', 'zero-shot-task-lang-limited-lang-200'),\n",
    "    (12, 'all', 'zero-shot-embs-limited-lang-200'),\n",
    "    (12, 'all', 'zero-shot-adversarial-limited-lang-200'),\n",
    "], simple_baseline)\n",
    "\n",
    "for row in tabl:\n",
    "    for num in row:\n",
    "        print(' & ', f'{num:.2f}', end='')\n",
    "    print(' \\\\\\\\')"
   ]
  },
  {
   "cell_type": "code",
   "execution_count": null,
   "metadata": {},
   "outputs": [],
   "source": [
    "test = [\n",
    "        (12, 'all', 'zero-shot-task-lang-ortho-50-again'),\n",
    "        (12, 'all', 'zero-shot-task-lang-ortho-50'),\n",
    "        (12, 'rel', 'zero-shot-rel-again'),\n",
    "        (12, 'rel', 'zero-shot'),\n",
    "        (12, 'all', 'zero-shot-adv-again'), \n",
    "        (12, 'all', 'zero-shot-adversarial'), \n",
    "]\n",
    "\n",
    "mat = np.vstack([\n",
    "    np.array(np_results(name, type)) for _, type, name in test\n",
    "])\n",
    "\n",
    "aer = (mat - mat[0]) / (100 - mat[0])\n",
    "aer = np.mean(aer, axis=1)\n",
    "\n",
    "agr = np.vstack([\n",
    "  np.mean(mat[:,:4], axis=1),\n",
    "  np.mean(mat[:,4:8], axis=1),\n",
    "  np.mean(mat[:,8:], axis=1),\n",
    "  aer,\n",
    "]).T\n",
    "print(agr)"
   ]
  },
  {
   "cell_type": "code",
   "execution_count": null,
   "metadata": {},
   "outputs": [],
   "source": []
  }
 ],
 "metadata": {
  "kernelspec": {
   "display_name": "Python 3",
   "language": "python",
   "name": "python3"
  },
  "language_info": {
   "codemirror_mode": {
    "name": "ipython",
    "version": 3
   },
   "file_extension": ".py",
   "mimetype": "text/x-python",
   "name": "python",
   "nbconvert_exporter": "python",
   "pygments_lexer": "ipython3",
   "version": "3.6.8"
  }
 },
 "nbformat": 4,
 "nbformat_minor": 2
}
