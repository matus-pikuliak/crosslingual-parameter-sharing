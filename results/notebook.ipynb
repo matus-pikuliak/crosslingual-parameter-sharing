{
 "cells": [
  {
   "cell_type": "code",
   "execution_count": 1,
   "metadata": {},
   "outputs": [],
   "source": [
    "# %matplotlib inline\n",
    "%load_ext autoreload\n",
    "%autoreload 2"
   ]
  },
  {
   "cell_type": "code",
   "execution_count": 2,
   "metadata": {},
   "outputs": [
    {
     "name": "stdout",
     "output_type": "stream",
     "text": [
      "[('deepnet5', 360), ('deepnet2070', 410)]\n"
     ]
    }
   ],
   "source": [
    "import matplotlib\n",
    "import matplotlib.pyplot as plt\n",
    "\n",
    "import glob\n",
    "import itertools\n",
    "import os\n",
    "\n",
    "import sys\n",
    "sys.path.append('..')\n",
    "\n",
    "from run import Run\n",
    "from run_db import db as run_db\n",
    "from run_utils import init_runs, find_runs\n",
    "\n",
    "tasks = ['dep', 'lmo', 'ner', 'pos']\n",
    "langs = ['cs', 'de', 'en', 'es']\n",
    "\n",
    "log_path = '/home/fiit/logs/'\n",
    "\n",
    "runs = init_runs(log_path, run_db)"
   ]
  },
  {
   "cell_type": "code",
   "execution_count": 3,
   "metadata": {},
   "outputs": [],
   "source": [
    "def draw_graphs(runs, tasks, langs, role, metric=None, focused=False, label=None):\n",
    "    \n",
    "    if label is None:\n",
    "        label = lambda run: f'{run.name}-{run.type}'\n",
    "    \n",
    "    fig, axes = plt.subplots(\n",
    "        len(tasks),\n",
    "        len(langs),\n",
    "        figsize=(5*len(langs), 4*len(tasks)),\n",
    "        squeeze=False)\n",
    "\n",
    "    for ax_row, task in zip(axes, tasks):\n",
    "        for ax, lang in zip(ax_row, langs):\n",
    "            for run in runs:\n",
    "                if not focused or run.config['focus_on'] == f'{task}-{lang}':\n",
    "                    history = run.history(\n",
    "                        metric=metric,\n",
    "                        task=task,\n",
    "                        language=lang,\n",
    "                        role=role)\n",
    "                    ax.plot(list(history), label=label(run))\n",
    "\n",
    "    for ax, lang in zip(axes[0], langs):\n",
    "        ax.set_title(lang)\n",
    "\n",
    "    for ax, task in zip(axes[:, 0], tasks):\n",
    "        ax.set_ylabel(task, rotation=0, size='large')\n",
    "        \n",
    "    for ax_row in axes:\n",
    "        for ax in ax_row:\n",
    "            ax.legend()\n",
    "\n",
    "    plt.show()\n",
    "\n",
    "    \n",
    "def results(runs, tasks, langs, focused=True, values_only=False):\n",
    "    \n",
    "    def get_results(run):\n",
    "        out = {}\n",
    "        for task, lang in itertools.product(tasks, langs):\n",
    "            run.load()\n",
    "            if not focused or run.config['focus_on'] == f'{task}-{lang}':\n",
    "                res, epoch = run.best(task=task, language=lang)\n",
    "                if res <= 1.01:\n",
    "                    res *= 100\n",
    "                out[(task, lang)] = res, epoch\n",
    "        return out\n",
    "    \n",
    "    out = {\n",
    "        run: get_results(run)\n",
    "        for run in runs}\n",
    "    \n",
    "    if values_only:\n",
    "        return [list(run.values())[0][0] for run in out.values()]\n",
    "    else:\n",
    "        return out\n",
    "\n",
    "# tmp_runs = find_runs(runs, name='zero-shot-task-lang-ortho-10')\n",
    "# res = results(tmp_runs, tasks, langs, focused=True)\n",
    "# print(list(res.values()))"
   ]
  },
  {
   "cell_type": "code",
   "execution_count": 4,
   "metadata": {},
   "outputs": [],
   "source": [
    "import numpy as np\n",
    "\n",
    "def tempo(name, type='all'):    \n",
    "    out = results(\n",
    "        runs=find_runs(\n",
    "            runs,\n",
    "            type=type,\n",
    "            name=name\n",
    "        ),\n",
    "        tasks=tasks,\n",
    "        langs=langs,\n",
    "        values_only=True\n",
    "    )\n",
    "    for value in out:\n",
    "        print(f'{value:.2f} ', end='')\n",
    "    print(np.round([np.mean(out[:4]), np.mean(out[4:8]), np.mean(out[8:])], decimals=2))\n"
   ]
  },
  {
   "cell_type": "code",
   "execution_count": null,
   "metadata": {},
   "outputs": [],
   "source": [
    "two_by_two = results(\n",
    "    runs=find_runs(\n",
    "        runs,\n",
    "        type='var',\n",
    "        name='zero-shot-two-by-two'\n",
    "    ),\n",
    "    tasks=tasks,\n",
    "    langs=langs,\n",
    "    values_only=True\n",
    ")\n",
    "\n",
    "adv = results(\n",
    "    runs=find_runs(\n",
    "        runs,\n",
    "        type='var',\n",
    "        name='zero-shot-two-by-two-adversarial'\n",
    "    ),\n",
    "    tasks=tasks,\n",
    "    langs=langs,\n",
    "    values_only=True\n",
    ")\n",
    "\n",
    "for i, val in enumerate(two_by_two):\n",
    "    print(f'{val:.2f}', end=' ')\n",
    "    if i % 6 == 5:\n",
    "        print(f'{adv[i // 6]:.2f}')"
   ]
  },
  {
   "cell_type": "code",
   "execution_count": null,
   "metadata": {
    "scrolled": true
   },
   "outputs": [],
   "source": [
    "tempo('zero-shot', 'ml-3')\n",
    "tempo('zero-shot', 'rel')\n",
    "tempo('zero-shot')\n",
    "tempo('zero-shot-400')\n",
    "print()\n",
    "tempo('zero-shot')\n",
    "tempo('zero-shot-task')\n",
    "tempo('zero-shot-lang')\n",
    "tempo('zero-shot-task-lang-no-global')\n",
    "tempo('zero-shot-task-lang')\n",
    "print()\n",
    "tempo('zero-shot-task-lang')\n",
    "tempo('zero-shot-task-lang-ortho-10')\n",
    "tempo('zero-shot-task-lang-ortho-25')\n",
    "tempo('zero-shot-task-lang-ortho-50')\n",
    "tempo('zero-shot-task-lang-ortho-100')\n",
    "tempo('zero-shot-task-lang-ortho-200')\n",
    "print()\n",
    "tempo('zero-shot-task-lang-no-global')\n",
    "tempo('zero-shot-task-lang-no-global-ortho-50')\n",
    "tempo('zero-shot-task-lang-no-global-ortho-100')\n",
    "tempo('zero-shot-task-lang-no-global-ortho-200')\n",
    "print()\n",
    "tempo('zero-shot')\n",
    "tempo('zero-shot-task-emb')\n",
    "tempo('zero-shot-lang-emb')\n",
    "tempo('zero-shot-embs')\n",
    "tempo('zero-shot-embs-400')\n",
    "tempo('zero-shot-task-lang-both-embs')\n",
    "print()\n",
    "tempo('zero-shot', 'ml-3')\n",
    "tempo('zero-shot')\n",
    "tempo('zero-shot-embs')\n",
    "tempo('zero-shot-task-lang')\n",
    "print()\n",
    "tempo('zero-shot-rotated', 'ml-3')\n",
    "tempo('zero-shot-rotated')\n",
    "tempo('zero-shot-embs-rotated')\n",
    "tempo('zero-shot-task-lang-rotated')\n",
    "print()\n",
    "tempo('zero-shot-char-level', 'ml-3')\n",
    "tempo('zero-shot-char-level')\n",
    "tempo('zero-shot-embs-char-level')\n",
    "tempo('zero-shot-task-lang-char-level')\n",
    "print()\n",
    "tempo('zero-shot')\n",
    "tempo('zero-shot-adversarial')\n",
    "tempo('zero-shot-adversarial-embs')"
   ]
  },
  {
   "cell_type": "code",
   "execution_count": 6,
   "metadata": {},
   "outputs": [
    {
     "name": "stdout",
     "output_type": "stream",
     "text": [
      "44.14 59.97 45.34 44.19 52.20 64.38 55.00 61.54 83.47 85.15 84.72 84.93 [48.41 58.28 84.57]\n",
      "56.06 63.72 57.89 63.27 52.23 67.89 54.76 62.63 83.03 86.71 84.50 86.89 [60.23 59.38 85.28]\n",
      "41.53 60.00 44.05 54.22 52.75 65.61 54.57 61.77 80.73 85.53 81.16 83.65 [49.95 58.68 82.77]\n",
      "51.18 55.98 52.11 54.60 51.92 67.60 52.01 61.36 82.04 86.71 83.81 86.67 [53.47 58.22 84.81]\n"
     ]
    }
   ],
   "source": [
    "tempo('zero-shot')\n",
    "tempo('zero-shot-adversarial')\n",
    "tempo('zero-shot-adversarial-embs')\n",
    "tempo('zero-shot-adversarial-task-lang')"
   ]
  },
  {
   "cell_type": "code",
   "execution_count": 5,
   "metadata": {},
   "outputs": [
    {
     "name": "stdout",
     "output_type": "stream",
     "text": [
      "44.14 59.97 45.34 44.19 52.20 64.38 55.00 61.54 83.47 85.15 84.72 84.93 [48.41 58.28 84.57]\n",
      "56.06 63.72 57.89 63.27 52.23 67.89 54.76 62.63 83.03 86.71 84.50 86.89 [60.23 59.38 85.28]\n",
      "55.07 64.25 58.73 61.30 54.45 64.93 54.85 62.33 82.82 85.75 85.23 87.17 [59.84 59.14 85.24]\n",
      "52.90 62.09 59.11 62.05 53.06 67.04 55.28 63.53 86.56 87.32 84.15 88.81 [59.04 59.73 86.71]\n",
      "\n",
      "41.45 51.40 44.11 40.00 47.77 59.28 49.44 56.59 79.33 83.51 83.31 82.23 [44.24 53.27 82.1 ]\n",
      "51.26 56.71 53.27 55.22 46.50 59.59 50.61 54.39 79.57 82.44 81.80 83.91 [54.11 52.77 81.93]\n",
      "48.22 56.02 54.47 53.72 47.73 57.49 50.85 53.94 79.12 83.27 83.46 82.46 [53.11 52.5  82.08]\n",
      "44.77 51.33 48.04 52.08 49.56 57.05 51.64 49.61 82.44 83.34 80.35 84.78 [49.05 51.97 82.73]\n",
      "\n",
      "47.14 58.79 49.23 49.35 43.60 55.61 52.16 58.48 82.99 85.43 85.27 81.84 [51.13 52.46 83.88]\n",
      "56.02 65.08 58.73 60.94 52.43 64.15 51.78 60.00 83.15 86.42 85.11 86.85 [60.19 57.09 85.38]\n",
      "51.31 64.94 58.42 56.01 43.45 55.30 50.15 57.10 81.67 86.46 84.53 82.33 [57.67 51.5  83.75]\n",
      "49.63 57.10 57.85 56.89 33.60 46.63 54.28 57.51 86.28 85.69 83.65 87.51 [55.37 48.   85.78]\n"
     ]
    }
   ],
   "source": [
    "tempo('zero-shot')\n",
    "tempo('zero-shot-adversarial')\n",
    "tempo('zero-shot-embs')\n",
    "tempo('zero-shot-task-lang')\n",
    "print()\n",
    "tempo('zero-shot-limited-task-200')\n",
    "tempo('zero-shot-adversarial-limited-task-200')\n",
    "tempo('zero-shot-embs-limited-task-200')\n",
    "tempo('zero-shot-task-lang-limited-task-200')\n",
    "print()\n",
    "tempo('zero-shot-limited-lang-200')\n",
    "tempo('zero-shot-adversarial-limited-lang-200')\n",
    "tempo('zero-shot-embs-limited-lang-200')\n",
    "tempo('zero-shot-task-lang-limited-lang-200')\n"
   ]
  },
  {
   "cell_type": "code",
   "execution_count": null,
   "metadata": {},
   "outputs": [],
   "source": [
    "tempo('zero-shot-dep-cs-frobenius', 'frob')"
   ]
  },
  {
   "cell_type": "code",
   "execution_count": null,
   "metadata": {},
   "outputs": [],
   "source": [
    "tmp = find_runs(runs, name='zero-shot')\n",
    "print(tmp[0].data[0])\n",
    "draw_graphs(tmp, tasks, langs, 'test', metric='loss', focused=True)\n"
   ]
  },
  {
   "cell_type": "code",
   "execution_count": null,
   "metadata": {},
   "outputs": [],
   "source": []
  }
 ],
 "metadata": {
  "kernelspec": {
   "display_name": "Python 3",
   "language": "python",
   "name": "python3"
  },
  "language_info": {
   "codemirror_mode": {
    "name": "ipython",
    "version": 3
   },
   "file_extension": ".py",
   "mimetype": "text/x-python",
   "name": "python",
   "nbconvert_exporter": "python",
   "pygments_lexer": "ipython3",
   "version": "3.6.6"
  }
 },
 "nbformat": 4,
 "nbformat_minor": 2
}
