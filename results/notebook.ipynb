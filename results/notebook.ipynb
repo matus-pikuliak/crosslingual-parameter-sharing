{
 "cells": [
  {
   "cell_type": "code",
   "execution_count": 1,
   "metadata": {},
   "outputs": [],
   "source": [
    "# %matplotlib inline\n",
    "%load_ext autoreload\n",
    "%autoreload 2"
   ]
  },
  {
   "cell_type": "code",
   "execution_count": 2,
   "metadata": {},
   "outputs": [
    {
     "name": "stdout",
     "output_type": "stream",
     "text": [
      "[('deepnet5', 360), ('deepnet2070', 407)]\n"
     ]
    }
   ],
   "source": [
    "import matplotlib\n",
    "import matplotlib.pyplot as plt\n",
    "\n",
    "import glob\n",
    "import itertools\n",
    "import os\n",
    "\n",
    "import sys\n",
    "sys.path.append('..')\n",
    "\n",
    "from run import Run\n",
    "from run_db import db as run_db\n",
    "from run_utils import init_runs, find_runs\n",
    "\n",
    "tasks = ['dep', 'lmo', 'ner', 'pos']\n",
    "langs = ['cs', 'de', 'en', 'es']\n",
    "\n",
    "log_path = '/home/fiit/logs/'\n",
    "\n",
    "runs = init_runs(log_path, run_db)"
   ]
  },
  {
   "cell_type": "code",
   "execution_count": 3,
   "metadata": {},
   "outputs": [],
   "source": [
    "def draw_graphs(runs, tasks, langs, role, metric=None, focused=False, label=None):\n",
    "    \n",
    "    if label is None:\n",
    "        label = lambda run: f'{run.name}-{run.type}'\n",
    "    \n",
    "    fig, axes = plt.subplots(\n",
    "        len(tasks),\n",
    "        len(langs),\n",
    "        figsize=(5*len(langs), 4*len(tasks)),\n",
    "        squeeze=False)\n",
    "\n",
    "    for ax_row, task in zip(axes, tasks):\n",
    "        for ax, lang in zip(ax_row, langs):\n",
    "            for run in runs:\n",
    "                if not focused or run.config['focus_on'] == f'{task}-{lang}':\n",
    "                    history = run.history(\n",
    "                        metric=metric,\n",
    "                        task=task,\n",
    "                        language=lang,\n",
    "                        role=role)\n",
    "                    ax.plot(list(history), label=label(run))\n",
    "\n",
    "    for ax, lang in zip(axes[0], langs):\n",
    "        ax.set_title(lang)\n",
    "\n",
    "    for ax, task in zip(axes[:, 0], tasks):\n",
    "        ax.set_ylabel(task, rotation=0, size='large')\n",
    "        \n",
    "    for ax_row in axes:\n",
    "        for ax in ax_row:\n",
    "            ax.legend()\n",
    "\n",
    "    plt.show()\n",
    "\n",
    "    \n",
    "def results(runs, tasks, langs, focused=True, values_only=False):\n",
    "    \n",
    "    def get_results(run):\n",
    "        out = {}\n",
    "        for task, lang in itertools.product(tasks, langs):\n",
    "            run.load()\n",
    "            if not focused or run.config['focus_on'] == f'{task}-{lang}':\n",
    "                res, epoch = run.best(task=task, language=lang)\n",
    "                if res <= 1.01:\n",
    "                    res *= 100\n",
    "                out[(task, lang)] = res, epoch\n",
    "        return out\n",
    "    \n",
    "    out = {\n",
    "        run: get_results(run)\n",
    "        for run in runs}\n",
    "    \n",
    "    if values_only:\n",
    "        return [list(run.values())[0][0] for run in out.values()]\n",
    "    else:\n",
    "        return out\n",
    "\n",
    "# tmp_runs = find_runs(runs, name='zero-shot-task-lang-ortho-10')\n",
    "# res = results(tmp_runs, tasks, langs, focused=True)\n",
    "# print(list(res.values()))"
   ]
  },
  {
   "cell_type": "code",
   "execution_count": 7,
   "metadata": {},
   "outputs": [],
   "source": [
    "import numpy as np\n",
    "\n",
    "def tempo(name, type='all'):    \n",
    "    out = results(\n",
    "        runs=find_runs(\n",
    "            runs,\n",
    "            type=type,\n",
    "            name=name\n",
    "        ),\n",
    "        tasks=tasks,\n",
    "        langs=langs,\n",
    "        values_only=True\n",
    "    )\n",
    "    for value in out:\n",
    "        print(f'{value:.2f} ', end='')\n",
    "    print(np.round([np.mean(out[:4]), np.mean(out[4:8]), np.mean(out[8:])], decimals=2))\n"
   ]
  },
  {
   "cell_type": "code",
   "execution_count": 8,
   "metadata": {},
   "outputs": [
    {
     "name": "stdout",
     "output_type": "stream",
     "text": [
      "49.37 57.57 48.44 81.51 84.35 86.67 73.18\n",
      "62.92 67.56 64.33 67.98 70.02 65.64 75.00\n",
      "50.60 52.56 47.21 54.29 56.60 43.19 66.29\n",
      "22.68 24.05 22.65 24.98 27.52 25.26 37.55\n",
      "47.74 48.94 48.77 49.26 48.48 49.19 49.41\n",
      "21.62 17.51 21.19 28.71 37.37 30.61 49.96\n",
      "23.56 22.67 21.81 24.21 33.22 22.27 40.88\n",
      "46.78 43.77 44.85 46.58 47.90 51.49 49.17\n",
      "44.66 45.27 43.45 50.76 52.09 33.78 59.49\n",
      "65.54 69.80 66.27 67.41 68.02 67.94 73.59\n",
      "32.15 35.51 31.44 50.74 48.61 24.22 53.26\n",
      "57.03 66.09 64.50 66.97 67.50 64.74 73.05\n",
      "60.48 64.63 59.78 79.59 81.77 82.49 81.29\n",
      "23.21 20.78 23.69 26.01 33.36 18.22 57.04\n",
      "31.33 35.42 30.94 37.73 52.58 50.47 54.18\n",
      "31.08 27.65 31.58 27.51 38.22 33.69 42.51\n",
      "44.19 43.37 43.04 46.44 47.94 45.44 45.40\n",
      "62.49 69.67 60.26 71.44 72.09 56.46 76.43\n",
      "73.93 80.72 75.47 84.42 83.82 87.29 86.27\n",
      "24.46 23.70 23.56 34.11 45.42 45.92 51.74\n"
     ]
    }
   ],
   "source": [
    "two_by_two = results(\n",
    "    runs=find_runs(\n",
    "        runs,\n",
    "        type='var',\n",
    "        name='zero-shot-two-by-two'\n",
    "    ),\n",
    "    tasks=tasks,\n",
    "    langs=langs,\n",
    "    values_only=True\n",
    ")\n",
    "\n",
    "adv = results(\n",
    "    runs=find_runs(\n",
    "        runs,\n",
    "        type='var',\n",
    "        name='zero-shot-two-by-two-adversarial'\n",
    "    ),\n",
    "    tasks=tasks,\n",
    "    langs=langs,\n",
    "    values_only=True\n",
    ")\n",
    "\n",
    "for i, val in enumerate(two_by_two):\n",
    "    print(f'{val:.2f}', end=' ')\n",
    "    if i % 6 == 5:\n",
    "        print(f'{adv[i // 6]:.2f}')"
   ]
  },
  {
   "cell_type": "code",
   "execution_count": 9,
   "metadata": {
    "scrolled": true
   },
   "outputs": [
    {
     "name": "stdout",
     "output_type": "stream",
     "text": [
      "30.65 49.63 48.30 32.38 42.25 57.53 49.57 53.27 68.84 80.00 75.05 57.72 [40.24 50.66 70.4 ]\n",
      "33.93 50.10 42.19 31.74 49.71 62.04 51.81 56.35 76.69 80.66 80.87 73.21 [39.49 54.98 77.86]\n",
      "44.14 59.97 45.34 44.19 52.20 64.38 55.00 61.54 83.47 85.15 84.72 84.93 [48.41 58.28 84.57]\n",
      "45.42 61.55 50.95 47.35 55.10 65.90 54.51 60.99 82.14 86.25 84.72 86.40 [51.32 59.13 84.88]\n",
      "\n",
      "44.14 59.97 45.34 44.19 52.20 64.38 55.00 61.54 83.47 85.15 84.72 84.93 [48.41 58.28 84.57]\n",
      "50.14 60.72 53.57 53.82 50.67 63.18 53.98 60.94 87.10 87.00 84.30 89.96 [54.56 57.19 87.09]\n",
      "44.25 56.21 55.39 53.47 47.90 66.35 55.10 61.52 75.99 83.66 78.51 76.73 [52.33 57.72 78.72]\n",
      "51.83 61.91 58.67 61.28 50.29 66.92 53.08 61.20 84.52 87.35 83.99 87.78 [58.42 57.87 85.91]\n",
      "52.90 62.09 59.11 62.05 53.06 67.04 55.28 63.53 86.56 87.32 84.15 88.81 [59.04 59.73 86.71]\n",
      "\n",
      "52.90 62.09 59.11 62.05 53.06 67.04 55.28 63.53 86.56 87.32 84.15 88.81 [59.04 59.73 86.71]\n",
      "53.05 63.72 60.15 62.33 53.28 65.92 55.02 62.73 85.09 87.82 83.90 89.06 [59.81 59.24 86.46]\n",
      "53.53 60.80 60.12 62.92 55.06 65.40 55.94 61.66 85.33 85.67 84.11 86.32 [59.34 59.52 85.36]\n",
      "55.14 63.53 58.36 62.70 54.71 66.32 55.77 62.18 84.85 87.78 84.13 87.19 [59.93 59.75 85.99]\n",
      "53.58 62.07 58.58 63.32 50.75 66.37 55.62 60.34 85.88 87.74 84.12 88.23 [59.39 58.27 86.49]\n",
      "51.41 61.65 56.98 62.02 49.25 64.84 55.20 61.60 85.38 86.41 83.64 88.14 [58.02 57.72 85.89]\n",
      "\n",
      "51.83 61.91 58.67 61.28 50.29 66.92 53.08 61.20 84.52 87.35 83.99 87.78 [58.42 57.87 85.91]\n",
      "51.83 60.42 58.38 63.11 48.50 63.66 54.22 62.81 84.59 87.51 82.90 88.35 [58.44 57.3  85.84]\n",
      "53.01 60.01 57.85 61.59 49.93 65.32 54.17 59.94 85.02 87.05 82.20 87.36 [58.12 57.34 85.41]\n",
      "52.55 59.32 57.85 62.01 49.37 63.97 55.01 55.87 86.34 87.22 82.54 87.46 [57.93 56.06 85.89]\n",
      "\n",
      "44.14 59.97 45.34 44.19 52.20 64.38 55.00 61.54 83.47 85.15 84.72 84.93 [48.41 58.28 84.57]\n",
      "50.71 62.76 60.27 62.52 53.31 65.01 55.06 59.68 83.84 86.40 84.87 86.19 [59.06 58.27 85.33]\n",
      "49.59 58.86 49.96 50.55 51.99 65.88 55.21 60.34 83.57 87.13 84.16 88.09 [52.24 58.35 85.74]\n",
      "55.07 64.25 58.73 61.30 54.45 64.93 54.85 62.33 82.82 85.75 85.23 87.17 [59.84 59.14 85.24]\n",
      "57.00 65.12 61.25 63.01 52.80 65.97 55.06 62.06 84.02 86.44 85.22 88.04 [61.59 58.97 85.93]\n",
      "51.22 62.47 60.24 63.72 54.37 66.75 55.73 59.63 85.93 87.71 84.40 88.94 [59.41 59.12 86.75]\n",
      "\n",
      "30.65 49.63 48.30 32.38 42.25 57.53 49.57 53.27 68.84 80.00 75.05 57.72 [40.24 50.66 70.4 ]\n",
      "44.14 59.97 45.34 44.19 52.20 64.38 55.00 61.54 83.47 85.15 84.72 84.93 [48.41 58.28 84.57]\n",
      "55.07 64.25 58.73 61.30 54.45 64.93 54.85 62.33 82.82 85.75 85.23 87.17 [59.84 59.14 85.24]\n",
      "52.90 62.09 59.11 62.05 53.06 67.04 55.28 63.53 86.56 87.32 84.15 88.81 [59.04 59.73 86.71]\n",
      "\n",
      "4.57 2.68 3.27 2.21 0.99 1.56 1.77 0.10 15.86 13.89 18.16 11.95 [ 3.18  1.1  14.96]\n",
      "30.26 33.53 31.14 30.93 25.06 22.42 12.70 25.07 56.13 59.66 66.43 78.49 [31.47 21.31 65.18]\n",
      "42.21 47.57 43.71 46.54 20.19 31.00 16.05 18.95 61.94 66.60 59.50 73.30 [45.01 21.55 65.34]\n",
      "44.44 51.95 45.10 56.82 34.18 46.69 36.50 35.39 76.79 76.39 74.22 84.86 [49.58 38.19 78.07]\n",
      "\n",
      "13.05 12.87 20.86 19.34 36.17 19.58 37.19 48.63 47.29 35.00 45.71 46.55 [16.53 35.39 43.64]\n",
      "39.09 40.85 39.38 49.23 44.44 27.13 39.74 51.38 80.14 56.58 75.81 79.54 [42.14 40.67 73.02]\n",
      "43.89 47.76 49.74 56.49 42.14 22.48 39.82 50.05 81.17 63.34 78.71 80.83 [49.47 38.62 76.01]\n",
      "48.95 57.14 48.44 61.51 44.12 29.38 36.25 51.56 82.14 78.67 81.18 87.41 [54.01 40.33 82.35]\n",
      "\n",
      "44.14 59.97 45.34 44.19 52.20 64.38 55.00 61.54 83.47 85.15 84.72 84.93 [48.41 58.28 84.57]\n",
      "56.06 63.72 57.89 63.27 52.23 67.89 54.76 62.63 83.03 86.71 84.50 86.89 [60.23 59.38 85.28]\n",
      "41.53 60.00 44.05 54.22 52.75 65.61 54.57 61.77 80.73 85.53 81.16 83.65 [49.95 58.68 82.77]\n"
     ]
    }
   ],
   "source": [
    "tempo('zero-shot', 'ml-3')\n",
    "tempo('zero-shot', 'rel')\n",
    "tempo('zero-shot')\n",
    "tempo('zero-shot-400')\n",
    "print()\n",
    "tempo('zero-shot')\n",
    "tempo('zero-shot-task')\n",
    "tempo('zero-shot-lang')\n",
    "tempo('zero-shot-task-lang-no-global')\n",
    "tempo('zero-shot-task-lang')\n",
    "print()\n",
    "tempo('zero-shot-task-lang')\n",
    "tempo('zero-shot-task-lang-ortho-10')\n",
    "tempo('zero-shot-task-lang-ortho-25')\n",
    "tempo('zero-shot-task-lang-ortho-50')\n",
    "tempo('zero-shot-task-lang-ortho-100')\n",
    "tempo('zero-shot-task-lang-ortho-200')\n",
    "print()\n",
    "tempo('zero-shot-task-lang-no-global')\n",
    "tempo('zero-shot-task-lang-no-global-ortho-50')\n",
    "tempo('zero-shot-task-lang-no-global-ortho-100')\n",
    "tempo('zero-shot-task-lang-no-global-ortho-200')\n",
    "print()\n",
    "tempo('zero-shot')\n",
    "tempo('zero-shot-task-emb')\n",
    "tempo('zero-shot-lang-emb')\n",
    "tempo('zero-shot-embs')\n",
    "tempo('zero-shot-embs-400')\n",
    "tempo('zero-shot-task-lang-both-embs')\n",
    "print()\n",
    "tempo('zero-shot', 'ml-3')\n",
    "tempo('zero-shot')\n",
    "tempo('zero-shot-embs')\n",
    "tempo('zero-shot-task-lang')\n",
    "print()\n",
    "tempo('zero-shot-rotated', 'ml-3')\n",
    "tempo('zero-shot-rotated')\n",
    "tempo('zero-shot-embs-rotated')\n",
    "tempo('zero-shot-task-lang-rotated')\n",
    "print()\n",
    "tempo('zero-shot-char-level', 'ml-3')\n",
    "tempo('zero-shot-char-level')\n",
    "tempo('zero-shot-embs-char-level')\n",
    "tempo('zero-shot-task-lang-char-level')\n",
    "print()\n",
    "tempo('zero-shot')\n",
    "tempo('zero-shot-adversarial')\n",
    "tempo('zero-shot-adversarial-embs')"
   ]
  },
  {
   "cell_type": "code",
   "execution_count": null,
   "metadata": {},
   "outputs": [],
   "source": [
    "tempo('zero-shot')\n",
    "tempo('zero-shot-adversarial')\n",
    "tempo('zero-shot-adversarial-embs')\n",
    "tempo('zero-shot-adversarial-task-lang')"
   ]
  },
  {
   "cell_type": "code",
   "execution_count": null,
   "metadata": {},
   "outputs": [],
   "source": [
    "tempo('zero-shot')\n",
    "tempo('zero-shot-adversarial')\n",
    "tempo('zero-shot-embs')\n",
    "print()\n",
    "tempo('zero-shot-limited-task-200')\n",
    "tempo('zero-shot-adversarial-limited-task-200')\n",
    "tempo('zero-shot-embs-limited-task-200')\n",
    "tempo('zero-shot-task-lang-limited-task-200')\n",
    "print()\n",
    "tempo('zero-shot-limited-lang-200')\n",
    "tempo('zero-shot-adversarial-limited-lang-200')\n",
    "tempo('zero-shot-embs-limited-lang-200')\n"
   ]
  },
  {
   "cell_type": "code",
   "execution_count": 5,
   "metadata": {},
   "outputs": [
    {
     "name": "stdout",
     "output_type": "stream",
     "text": [
      "3\n",
      "48.55 44.78 39.72 [44.35   nan   nan]\n"
     ]
    },
    {
     "name": "stderr",
     "output_type": "stream",
     "text": [
      "/home/fiit/PycharmProjects/cll/.venv/lib/python3.6/site-packages/numpy/core/fromnumeric.py:2920: RuntimeWarning: Mean of empty slice.\n",
      "  out=out, **kwargs)\n",
      "/home/fiit/PycharmProjects/cll/.venv/lib/python3.6/site-packages/numpy/core/_methods.py:85: RuntimeWarning: invalid value encountered in double_scalars\n",
      "  ret = ret.dtype.type(ret / rcount)\n"
     ]
    }
   ],
   "source": [
    "tempo('zero-shot-dep-cs-frobenius', 'frob')"
   ]
  },
  {
   "cell_type": "code",
   "execution_count": null,
   "metadata": {},
   "outputs": [],
   "source": [
    "tmp = find_runs(runs, name='zero-shot')\n",
    "print(tmp[0].data[0])\n",
    "draw_graphs(tmp, tasks, langs, 'test', metric='loss', focused=True)\n"
   ]
  },
  {
   "cell_type": "code",
   "execution_count": null,
   "metadata": {},
   "outputs": [],
   "source": []
  }
 ],
 "metadata": {
  "kernelspec": {
   "display_name": "Python 3",
   "language": "python",
   "name": "python3"
  },
  "language_info": {
   "codemirror_mode": {
    "name": "ipython",
    "version": 3
   },
   "file_extension": ".py",
   "mimetype": "text/x-python",
   "name": "python",
   "nbconvert_exporter": "python",
   "pygments_lexer": "ipython3",
   "version": "3.6.6"
  }
 },
 "nbformat": 4,
 "nbformat_minor": 2
}
