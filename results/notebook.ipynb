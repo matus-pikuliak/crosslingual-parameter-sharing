{
 "cells": [
  {
   "cell_type": "code",
   "execution_count": 1,
   "metadata": {},
   "outputs": [
    {
     "name": "stdout",
     "output_type": "stream",
     "text": [
      "[('martak', 102), ('gcp', 60), ('deepnet2', 59), ('fiit-gcp-1', 7), ('fiit-gcp-2', 7), ('fiit-gcp-3', 7), ('acer', 6)]\n"
     ]
    }
   ],
   "source": [
    "%matplotlib inline\n",
    "\n",
    "import matplotlib\n",
    "import matplotlib.pyplot as plt\n",
    "\n",
    "import glob\n",
    "import itertools\n",
    "import os\n",
    "\n",
    "from run import Run\n",
    "from runs_db import db as runs_db"
   ]
  },
  {
   "cell_type": "code",
   "execution_count": null,
   "metadata": {},
   "outputs": [],
   "source": [
    "log_path = '/home/fiit/logs'\n",
    "runs = []\n",
    "\n",
    "for server in runs_db:\n",
    "    paths = glob.glob(os.path.join(log_path, server, '*'))\n",
    "    paths = iter(sorted(paths))\n",
    "\n",
    "    try:\n",
    "        for (number, type_, code) in runs_db[server]:\n",
    "            for _ in range(number):\n",
    "                try:\n",
    "                    path = next(paths)\n",
    "                    runs.append(Run(path, type_, code))\n",
    "                except KeyError:\n",
    "                    print(path)\n",
    "    except StopIteration:\n",
    "        pass\n"
   ]
  },
  {
   "cell_type": "code",
   "execution_count": null,
   "metadata": {},
   "outputs": [],
   "source": [
    "tasks = ['dep', 'lmo', 'ner', 'pos']\n",
    "langs = ['cs', 'de', 'en', 'es']\n",
    "\n",
    "task_metr = {\n",
    "    'dep': 'las',\n",
    "    'lmo': 'perplexity',\n",
    "    'ner': 'chunk_f1',\n",
    "    'pos': 'acc'\n",
    "}\n",
    "\n",
    "task_max = {\n",
    "    'dep': True,\n",
    "    'lmo': False,\n",
    "    'ner': True,\n",
    "    'pos': True\n",
    "}\n",
    "\n",
    "def draw_graphs(metric_func, tasks, langs, role, run_codes=None, run_types=None):\n",
    "    fig, axes = plt.subplots(len(tasks), len(langs), figsize=(5*len(langs), 4*len(tasks)), squeeze=False)\n",
    "\n",
    "    relevant_runs = ['vanilla']\n",
    "\n",
    "    for task, lang in itertools.product(tasks, langs):\n",
    "        for run in runs:\n",
    "            if (\n",
    "                run.contains(task, lang) and\n",
    "                (run_codes is None or run.code in run_codes) and\n",
    "                (run_types is None or run.type in run_types)\n",
    "            ):\n",
    "\n",
    "                history = run.history(\n",
    "                    metric=metric_func(task),\n",
    "                    task=task,\n",
    "                    language=lang,\n",
    "                    role=role)\n",
    "                axes[tasks.index(task), langs.index(lang)].plot(list(history), label=f'{run.code}-{run.type}')\n",
    "\n",
    "    for ax, col in zip(axes[0], langs):\n",
    "        ax.set_title(col)\n",
    "\n",
    "    for ax, row in zip(axes[:, 0], tasks):\n",
    "        ax.set_ylabel(row, rotation=0, size='large')\n",
    "        \n",
    "    for ax_row in axes:\n",
    "        for ax in ax_row:\n",
    "            ax.legend()\n",
    "\n",
    "    plt.show()\n",
    "    \n",
    "def print_results(metric_func, metric_max_func, tasks, langs, run_codes=None, run_types=None):\n",
    "    \n",
    "    for task, lang in itertools.product(tasks, langs):\n",
    "        for run in runs:\n",
    "            if (\n",
    "                run.contains(task, lang) and\n",
    "                (run_codes is None or run.code in run_codes) and\n",
    "                (run_types is None or run.type in run_types)\n",
    "            ):\n",
    "                result = run.metric_eval(\n",
    "                    metric=metric_func(task),\n",
    "                    max_=metric_max_func(task),\n",
    "                    task=task,\n",
    "                    language=lang)\n",
    "                res = result[0]\n",
    "                if res < 1.01:\n",
    "                    res *= 100\n",
    "                print(f'{res:.2f} ', end='')\n",
    "    print()\n",
    "        "
   ]
  },
  {
   "cell_type": "code",
   "execution_count": null,
   "metadata": {
    "scrolled": true
   },
   "outputs": [],
   "source": [
    "# draw_graphs(lambda task: task_metr[task], tasks, langs, 'test',\n",
    "#              ['private-focused-0.75-dep-ner-pos-cs-es'], ['stsl', 'mt', 'ml', 'mtml'])\n",
    "print('89.16 86.51 98.97 96.87 81.58 87.23')\n",
    "print('mt')\n",
    "print_results(lambda task: task_metr[task], lambda task: task_max[task], ['dep', 'pos', 'ner'], langs,\n",
    "            ['no-adv-tsh-focused-dep-ner-pos-cs-es'], ['mt'])\n",
    "print_results(lambda task: task_metr[task], lambda task: task_max[task], ['dep', 'pos', 'ner'], langs,\n",
    "            ['private-focused-dep-ner-pos-cs-es'], ['mt'])\n",
    "print_results(lambda task: task_metr[task], lambda task: task_max[task], ['dep', 'pos', 'ner'], langs,\n",
    "            ['no-adv-tsh-focused-0.75-dep-ner-pos-cs-es'], ['mt'])\n",
    "print_results(lambda task: task_metr[task], lambda task: task_max[task], ['dep', 'pos', 'ner'], langs,\n",
    "            ['private-focused-0.75-dep-ner-pos-cs-es'], ['mt'])\n",
    "print('ml')\n",
    "print_results(lambda task: task_metr[task], lambda task: task_max[task], ['dep', 'pos', 'ner'], langs,\n",
    "            ['no-adv-tsh-focused-dep-ner-pos-cs-es'], ['ml'])\n",
    "print_results(lambda task: task_metr[task], lambda task: task_max[task], ['dep', 'pos', 'ner'], langs,\n",
    "            ['private-focused-dep-ner-pos-cs-es'], ['ml'])\n",
    "print_results(lambda task: task_metr[task], lambda task: task_max[task], ['dep', 'pos', 'ner'], langs,\n",
    "            ['no-adv-tsh-focused-0.75-dep-ner-pos-cs-es'], ['ml'])\n",
    "print_results(lambda task: task_metr[task], lambda task: task_max[task], ['dep', 'pos', 'ner'], langs,\n",
    "            ['private-focused-0.75-dep-ner-pos-cs-es'], ['ml'])\n",
    "print('mtml')\n",
    "print_results(lambda task: task_metr[task], lambda task: task_max[task], ['dep', 'pos', 'ner'], langs,\n",
    "            ['no-adv-tsh-focused-dep-ner-pos-cs-es'], ['mtml'])\n",
    "print_results(lambda task: task_metr[task], lambda task: task_max[task], ['dep', 'pos', 'ner'], langs,\n",
    "            ['private-focused-dep-ner-pos-cs-es'], ['mtml'])\n",
    "print_results(lambda task: task_metr[task], lambda task: task_max[task], ['dep', 'pos', 'ner'], langs,\n",
    "            ['no-adv-tsh-focused-0.75-dep-ner-pos-cs-es'], ['mtml'])\n",
    "print_results(lambda task: task_metr[task], lambda task: task_max[task], ['dep', 'pos', 'ner'], langs,\n",
    "            ['private-focused-0.75-dep-ner-pos-cs-es'], ['mtml'])\n",
    "\n",
    "\n",
    "\n"
   ]
  },
  {
   "cell_type": "code",
   "execution_count": null,
   "metadata": {},
   "outputs": [],
   "source": [
    "draw_graphs(lambda task: task_metr[task], tasks, langs, 'test', ['vanilla'])"
   ]
  },
  {
   "cell_type": "code",
   "execution_count": null,
   "metadata": {},
   "outputs": [],
   "source": [
    "draw_graphs(lambda task: task_metr[task], tasks, langs, 'test',\n",
    "            run_codes=['vanilla', 'vanilla300', 'vanilla400'],\n",
    "            run_types=['mtml'])"
   ]
  },
  {
   "cell_type": "code",
   "execution_count": null,
   "metadata": {},
   "outputs": [],
   "source": []
  },
  {
   "cell_type": "code",
   "execution_count": null,
   "metadata": {},
   "outputs": [],
   "source": []
  }
 ],
 "metadata": {
  "kernelspec": {
   "display_name": "Python 3",
   "language": "python",
   "name": "python3"
  },
  "language_info": {
   "codemirror_mode": {
    "name": "ipython",
    "version": 3
   },
   "file_extension": ".py",
   "mimetype": "text/x-python",
   "name": "python",
   "nbconvert_exporter": "python",
   "pygments_lexer": "ipython3",
   "version": "3.6.6"
  }
 },
 "nbformat": 4,
 "nbformat_minor": 2
}
