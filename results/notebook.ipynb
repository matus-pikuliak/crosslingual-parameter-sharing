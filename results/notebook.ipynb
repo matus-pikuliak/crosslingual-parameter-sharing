{
 "cells": [
  {
   "cell_type": "code",
   "execution_count": 1,
   "metadata": {
    "pycharm": {
     "is_executing": false
    }
   },
   "outputs": [],
   "source": [
    "# %matplotlib inline\n",
    "%load_ext autoreload\n",
    "%autoreload 2"
   ]
  },
  {
   "cell_type": "code",
   "execution_count": 2,
   "metadata": {
    "pycharm": {
     "is_executing": false
    }
   },
   "outputs": [
    {
     "name": "stdout",
     "text": [
      "[('deepnet5', 513), ('deepnet2070', 608), ('deepnet6-1', 48), ('deepnet6-2', 12)]\n"
     ],
     "output_type": "stream"
    }
   ],
   "source": [
    "import glob\n",
    "import itertools\n",
    "import sys\n",
    "import os\n",
    "\n",
    "import matplotlib\n",
    "import matplotlib.pyplot as plt\n",
    "import numpy as np\n",
    "\n",
    "sys.path.append('..')\n",
    "\n",
    "from run import Run\n",
    "from run_db import db as run_db\n",
    "from run_utils import init_runs, find_runs\n",
    "\n",
    "tasks = ['dep', 'lmo', 'ner', 'pos']\n",
    "langs = ['cs', 'de', 'en', 'es']\n",
    "\n",
    "log_path = '/home/fiit/logs/'\n",
    "\n",
    "runs = init_runs(log_path, run_db)\n",
    "\n",
    "np.set_printoptions(precision=2)"
   ]
  },
  {
   "cell_type": "code",
   "execution_count": 3,
   "metadata": {
    "pycharm": {
     "is_executing": false
    }
   },
   "outputs": [
    {
     "name": "stdout",
     "text": [
      "[86.52 76.42 82.44 85.48 69.06 78.52 81.48 79.7  97.6  92.61 94.36 96.23]\n"
     ],
     "output_type": "stream"
    }
   ],
   "source": [
    "def draw_graphs(runs, tasks, langs, role, metric=None, focused=False, label=None):\n",
    "    \n",
    "    if label is None:\n",
    "        label = lambda run: f'{run.name}-{run.type}'\n",
    "    \n",
    "    fig, axes = plt.subplots(\n",
    "        len(tasks),\n",
    "        len(langs),\n",
    "        figsize=(5*len(langs), 4*len(tasks)),\n",
    "        squeeze=False)\n",
    "\n",
    "    for ax_row, task in zip(axes, tasks):\n",
    "        for ax, lang in zip(ax_row, langs):\n",
    "            for run in runs:\n",
    "                if not focused or run.config['focus_on'] == f'{task}-{lang}':\n",
    "                    history = run.history(\n",
    "                        metric=metric,\n",
    "                        task=task,\n",
    "                        language=lang,\n",
    "                        role=role)\n",
    "                    ax.plot(list(history), label=label(run))\n",
    "\n",
    "    for ax, lang in zip(axes[0], langs):\n",
    "        ax.set_title(lang)\n",
    "\n",
    "    for ax, task in zip(axes[:, 0], tasks):\n",
    "        ax.set_ylabel(task, rotation=0, size='large')\n",
    "        \n",
    "    for ax_row in axes:\n",
    "        for ax in ax_row:\n",
    "            ax.legend()\n",
    "\n",
    "    plt.show()\n",
    "\n",
    "    \n",
    "def results(runs, tasks, langs, focused=True, values_only=False):\n",
    "    \n",
    "    def get_results(run):\n",
    "        out = {}\n",
    "        for task, lang in itertools.product(tasks, langs):\n",
    "            run.load()\n",
    "            if (not focused and run.contains(task, lang)) or run.config['focus_on'] == f'{task}-{lang}':\n",
    "                res, epoch = run.metric_eval(task=task, language=lang)\n",
    "                if res <= 1.01:\n",
    "                    res *= 100\n",
    "                out[(task, lang)] = res, epoch\n",
    "        return out\n",
    "    \n",
    "    out = {\n",
    "        run: get_results(run)\n",
    "        for run in runs}\n",
    "    \n",
    "    if values_only:\n",
    "        return np.array([\n",
    "            list(run.values())[0][0] for run in out.values()\n",
    "        ])\n",
    "    else:\n",
    "        return out\n",
    "    \n",
    "def np_results(name, type='all', focused=True):\n",
    "    return results(\n",
    "        runs=find_runs(\n",
    "            runs,\n",
    "            type=type,\n",
    "            name=name\n",
    "        ),\n",
    "        tasks=tasks,\n",
    "        langs=langs,\n",
    "        values_only=True,\n",
    "        focused=focused\n",
    "    )\n",
    "\n",
    "def gen_table(runs, upper, baseline=None):\n",
    "    metrics = np.vstack([\n",
    "        np.array(np_results(code, type)) for _, type, code in runs\n",
    "    ])\n",
    "    \n",
    "    if baseline is None:\n",
    "        baseline = metrics[0]\n",
    "    aer = (metrics - baseline) / (upper - baseline)\n",
    "    \n",
    "    return np.vstack([\n",
    "        np.mean(metrics[:,:4], axis=1),\n",
    "        np.mean(metrics[:,4:8], axis=1),\n",
    "        np.mean(metrics[:,8:], axis=1),\n",
    "        np.mean(aer, axis=1)*100\n",
    "    ]).T\n",
    "\n",
    "\n",
    "def tempo(name, type='all', mean=True):    \n",
    "    out = np_results(name, type)\n",
    "    for value in out:\n",
    "        print(f'{value:.2f} ', end='')\n",
    "    if mean:\n",
    "        print(np.round([np.mean(out[:4]), np.mean(out[4:8]), np.mean(out[8:])], decimals=2), end='')\n",
    "    print()\n",
    "    \n",
    "simple_baseline = np_results('normal-training', 'stsl', focused=False)\n",
    "two_two_baseline = simple_baseline[[11, 9, 11, 0, 6, 3, 0, 6, 7, 8, 7, 8, 8, 3, 2, 2, 6, 10, 9, 0,]]\n",
    "print(simple_baseline)"
   ]
  },
  {
   "cell_type": "code",
   "execution_count": null,
   "metadata": {},
   "outputs": [],
   "source": [
    "two_by_two = results(\n",
    "    runs=find_runs(\n",
    "        runs,\n",
    "        type='var',\n",
    "        name='zero-shot-two-by-two'\n",
    "    ),\n",
    "    tasks=tasks,\n",
    "    langs=langs,\n",
    "    values_only=True\n",
    ")\n",
    "\n",
    "adv = results(\n",
    "    runs=find_runs(\n",
    "        runs,\n",
    "        type='var',\n",
    "        name='zero-shot-two-by-two-adversarial'\n",
    "    ),\n",
    "    tasks=tasks,\n",
    "    langs=langs,\n",
    "    values_only=True\n",
    ")\n",
    "\n",
    "for i, val in enumerate(two_by_two):\n",
    "    print(f'{val:.2f}', end=' ')\n",
    "    if i % 6 == 5:\n",
    "        print(f'{adv[i // 6]:.2f}')"
   ]
  },
  {
   "cell_type": "code",
   "execution_count": null,
   "metadata": {
    "scrolled": true
   },
   "outputs": [],
   "source": [
    "tempo('zero-shot-embs', 'rel')\n",
    "tempo('zero-shot-embs-again', 'rel')\n",
    "\n"
   ]
  },
  {
   "cell_type": "code",
   "execution_count": null,
   "metadata": {
    "pycharm": {
     "is_executing": false
    }
   },
   "outputs": [],
   "source": [
    "tmp = find_runs(runs, name='zero-shot')\n",
    "print(tmp[0].data[0])\n",
    "draw_graphs(tmp, tasks, langs, 'test', metric='loss', focused=True)\n"
   ]
  },
  {
   "cell_type": "code",
   "execution_count": null,
   "metadata": {},
   "outputs": [],
   "source": [
    "tmp = results(\n",
    "    runs=find_runs(\n",
    "        runs,\n",
    "        type='var',\n",
    "        name='low-resource'\n",
    "    ),\n",
    "    tasks=tasks,\n",
    "    langs=langs,\n",
    "    values_only=True\n",
    ")\n",
    "\n",
    "tmp2 = results(\n",
    "    runs=find_runs(\n",
    "        runs,\n",
    "        type='var',\n",
    "        name='low-resource-2'\n",
    "    ),\n",
    "    tasks=tasks,\n",
    "    langs=langs,\n",
    "    values_only=True\n",
    ")\n",
    "\n",
    "tmpa = results(\n",
    "    runs=find_runs(\n",
    "        runs,\n",
    "        type='var',\n",
    "        name='low-resource-advanced'\n",
    "    ),\n",
    "    tasks=tasks,\n",
    "    langs=langs,\n",
    "    values_only=True\n",
    ")\n",
    "\n",
    "adv = iter(tmpa)\n",
    "baselines = iter(tmp[0::5] + tmp2[0::5])\n",
    "bsl = next(baselines)\n",
    "\n",
    "i = 0\n",
    "for r in tmp:\n",
    "    print(f'{r/bsl:.2f}', end=' ')\n",
    "    i += 1\n",
    "    if i % 5 == 0:\n",
    "        for _ in range(3):\n",
    "           print(f'{next(adv)/bsl:.2f}', end=' ')     \n",
    "        print()\n",
    "        bsl = next(baselines)\n",
    "for r in tmp2:\n",
    "    print(f'{r/bsl:.2f}', end=' ')\n",
    "    i += 1\n",
    "    if i % 5 == 0:\n",
    "        for _ in range(3):\n",
    "           print(f'{next(adv)/bsl:.2f}', end=' ')    \n",
    "        print()\n",
    "        bsl = next(baselines)\n",
    "\n"
   ]
  },
  {
   "cell_type": "code",
   "execution_count": null,
   "metadata": {},
   "outputs": [],
   "source": [
    "tmp = results(\n",
    "    runs=find_runs(\n",
    "        runs,\n",
    "        type='var',\n",
    "        name='zero-shot-two-by-two'\n",
    "    ),\n",
    "    tasks=tasks,\n",
    "    langs=langs,\n",
    "    values_only=True\n",
    ")\n",
    "\n",
    "tmpa = results(\n",
    "    runs=find_runs(\n",
    "        runs,\n",
    "        type='var',\n",
    "        name='zero-shot-two-by-two-adversarial'\n",
    "    ),\n",
    "    tasks=tasks,\n",
    "    langs=langs,\n",
    "    values_only=True\n",
    ")\n",
    "\n",
    "baselines = iter(tmp[0::6])\n",
    "bsl = next(baselines)\n",
    "adv = iter(tmpa)\n",
    "\n",
    "i = 0\n",
    "for r in tmp:\n",
    "    print(f'{r/bsl:.2f}', end=' ')\n",
    "    i += 1\n",
    "    if i % 6 == 0:\n",
    "        print(f'{next(adv)/bsl:.2f}')   \n",
    "        bsl = next(baselines)\n",
    "\n",
    "\n"
   ]
  },
  {
   "cell_type": "code",
   "execution_count": null,
   "metadata": {
    "scrolled": true
   },
   "outputs": [],
   "source": [
    "# Porovnanie CL, CL+CT, CL+Co, CL+CT+Co trenovania pre 4x4 a 2x2 nastavenie.\n",
    "print(gen_table([\n",
    "    (12, 'ml-3', 'zero-shot'),\n",
    "    (12, 'rel', 'zero-shot'),\n",
    "    (12, 'ml-unrel-12', 'zero-shot'),\n",
    "    (12, 'all', 'zero-shot'),\n",
    "    (12, 'all', 'zero-shot-400'),  \n",
    "], simple_baseline))\n",
    "                       \n",
    "\n",
    "\n",
    "mat = np_results('zero-shot-two-by-two', 'var')\n",
    "mat = np.reshape(mat, (20, 6))[:,:4].T\n",
    "# print(mat)\n",
    "mat = (mat - mat[0]) / (two_two_baseline - mat[0])\n",
    "mat = np.mean(mat, axis=1)\n",
    "print(mat*100)"
   ]
  },
  {
   "cell_type": "code",
   "execution_count": null,
   "metadata": {},
   "outputs": [],
   "source": [
    "tabl = gen_table([\n",
    "    (12, 'ml-3', 'zero-shot'),\n",
    "    (12, 'all', 'zero-shot-task'),\n",
    "    (12, 'all', 'zero-shot-lang'),\n",
    "    (12, 'all', 'zero-shot-task-lang-no-global'), \n",
    "    (12, 'all', 'zero-shot-task-lang'),\n",
    "], simple_baseline)\n",
    "\n",
    "print(tabl)\n",
    "\n",
    "mat = np_results('zero-shot-two-by-two', 'var')\n",
    "mat = np.reshape(mat, (20, 6))[:,[0,-1]].T\n",
    "mat = (mat - mat[0]) / (two_two_baseline - mat[0])\n",
    "mat = np.mean(mat, axis=1)\n",
    "print(mat*100)\n",
    "                      "
   ]
  },
  {
   "cell_type": "code",
   "execution_count": null,
   "metadata": {},
   "outputs": [],
   "source": [
    "tabl = gen_table([\n",
    "    (12, 'ml-3', 'zero-shot'),\n",
    "    (12, 'all', 'zero-shot-task-emb'),\n",
    "    (12, 'all', 'zero-shot-lang-emb'),\n",
    "    (12, 'all', 'zero-shot-embs'),\n",
    "], simple_baseline)\n",
    "\n",
    "print(tabl)\n",
    "\n",
    "mat = np_results('zero-shot-two-by-two', 'var')\n",
    "mat = np.reshape(mat, (20, 6))[:,[0,-2]].T\n",
    "mat = (mat - mat[0]) / (two_two_baseline - mat[0])\n",
    "mat = np.mean(mat, axis=1)\n",
    "print(mat*100)\n"
   ]
  },
  {
   "cell_type": "code",
   "execution_count": null,
   "metadata": {},
   "outputs": [],
   "source": [
    "tabl = gen_table([\n",
    "    (12, 'ml-3', 'zero-shot'),\n",
    "    (12, 'all', 'zero-shot-adversarial'),\n",
    "], simple_baseline)\n",
    "\n",
    "print(tabl)\n",
    "\n",
    "mat = np.vstack([\n",
    "    np.reshape(\n",
    "        np_results('zero-shot-two-by-two', 'var'), (20, 6)\n",
    "    )[:,0],\n",
    "    np_results('zero-shot-two-by-two-adversarial', 'var')\n",
    "])\n",
    "mat = (mat - mat[0]) / (two_two_baseline - mat[0])\n",
    "mat = np.mean(mat, axis=1)\n",
    "print(mat*100)\n"
   ]
  },
  {
   "cell_type": "code",
   "execution_count": null,
   "metadata": {},
   "outputs": [],
   "source": [
    "tabl = gen_table([\n",
    "    (12, 'ml-3', 'zero-shot'),\n",
    "    (12, 'all', 'zero-shot-task-lang'),\n",
    "    (12, 'all', 'zero-shot-embs-400'),\n",
    "    ...\n",
    "], simple_baseline)\n",
    "\n",
    "print(tabl)"
   ]
  },
  {
   "cell_type": "code",
   "execution_count": null,
   "metadata": {},
   "outputs": [],
   "source": [
    "tabl = gen_table([\n",
    "    (12, 'ml-3', 'zero-shot'),\n",
    "    (12, 'all', 'zero-shot'),\n",
    "    (12, 'ml-3', 'zero-shot-rotated'),    \n",
    "    (12, 'all', 'zero-shot-rotated'),\n",
    "    (12, 'all', 'zero-shot-task-lang-rotated'),\n",
    "    (12, 'all', 'zero-shot-embs-rotated'),\n",
    "    (12, 'all', 'zero-shot-rotated-adversarial'),\n",
    "    (12, 'ml-3', 'zero-shot-char-level'),\n",
    "    (12, 'all', 'zero-shot-char-level'),\n",
    "    (12, 'all', 'zero-shot-task-lang-char-level'),        \n",
    "    (12, 'all', 'zero-shot-embs-char-level'),\n",
    "    (12, 'all', 'zero-shot-char-level-adversarial'),\n",
    "], simple_baseline)\n",
    "\n",
    "for row in tabl:\n",
    "    for num in row:\n",
    "        print(' & ', f'{num:.2f}', end='')\n",
    "    print(' \\\\\\\\')"
   ]
  },
  {
   "cell_type": "code",
   "execution_count": null,
   "metadata": {},
   "outputs": [],
   "source": [
    "tabl = gen_table([\n",
    "    (12, 'ml-3', 'zero-shot'),\n",
    "    (12, 'all', 'zero-shot'),\n",
    "    (12, 'all', 'zero-shot-limited-task-200'),\n",
    "    (12, 'all', 'zero-shot-task-lang-limited-task-200'),\n",
    "    (12, 'all', 'zero-shot-embs-limited-task-200'),\n",
    "    (12, 'all', 'zero-shot-adversarial-limited-task-200'),\n",
    "    (12, 'all', 'zero-shot-limited-lang-200'),\n",
    "    (12, 'all', 'zero-shot-task-lang-limited-lang-200'),\n",
    "    (12, 'all', 'zero-shot-embs-limited-lang-200'),\n",
    "    (12, 'all', 'zero-shot-adversarial-limited-lang-200'),\n",
    "], simple_baseline)\n",
    "\n",
    "for row in tabl:\n",
    "    for num in row:\n",
    "        print(' & ', f'{num:.2f}', end='')\n",
    "    print(' \\\\\\\\')"
   ]
  },
  {
   "cell_type": "code",
   "execution_count": 6,
   "metadata": {
    "pycharm": {
     "is_executing": false
    }
   },
   "outputs": [
    {
     "traceback": [
      "\u001b[0;31m---------------------------------------------------------------------------\u001b[0m",
      "\u001b[0;31mIndexError\u001b[0m                                Traceback (most recent call last)",
      "\u001b[0;32m<ipython-input-6-d4b5a4026f57>\u001b[0m in \u001b[0;36m<module>\u001b[0;34m\u001b[0m\n\u001b[0;32m----> 1\u001b[0;31m \u001b[0mtempo\u001b[0m\u001b[0;34m(\u001b[0m\u001b[0;34m'low-resource'\u001b[0m\u001b[0;34m,\u001b[0m \u001b[0;34m'stsl'\u001b[0m\u001b[0;34m)\u001b[0m\u001b[0;34m\u001b[0m\u001b[0;34m\u001b[0m\u001b[0m\n\u001b[0m\u001b[1;32m      2\u001b[0m \u001b[0;34m\u001b[0m\u001b[0m\n\u001b[1;32m      3\u001b[0m \u001b[0;31m# tabl = gen_table([\u001b[0m\u001b[0;34m\u001b[0m\u001b[0;34m\u001b[0m\u001b[0;34m\u001b[0m\u001b[0m\n\u001b[1;32m      4\u001b[0m \u001b[0;31m#         (12, 'stsl', 'low-resource'),\u001b[0m\u001b[0;34m\u001b[0m\u001b[0;34m\u001b[0m\u001b[0;34m\u001b[0m\u001b[0m\n\u001b[1;32m      5\u001b[0m \u001b[0;31m#         (12, 'ml-3', 'low-resource'),\u001b[0m\u001b[0;34m\u001b[0m\u001b[0;34m\u001b[0m\u001b[0;34m\u001b[0m\u001b[0m\n",
      "\u001b[0;32m<ipython-input-3-cac79f8772b4>\u001b[0m in \u001b[0;36mtempo\u001b[0;34m(name, type, mean)\u001b[0m\n\u001b[1;32m     90\u001b[0m \u001b[0;34m\u001b[0m\u001b[0m\n\u001b[1;32m     91\u001b[0m \u001b[0;32mdef\u001b[0m \u001b[0mtempo\u001b[0m\u001b[0;34m(\u001b[0m\u001b[0mname\u001b[0m\u001b[0;34m,\u001b[0m \u001b[0mtype\u001b[0m\u001b[0;34m=\u001b[0m\u001b[0;34m'all'\u001b[0m\u001b[0;34m,\u001b[0m \u001b[0mmean\u001b[0m\u001b[0;34m=\u001b[0m\u001b[0;32mTrue\u001b[0m\u001b[0;34m)\u001b[0m\u001b[0;34m:\u001b[0m\u001b[0;34m\u001b[0m\u001b[0;34m\u001b[0m\u001b[0m\n\u001b[0;32m---> 92\u001b[0;31m     \u001b[0mout\u001b[0m \u001b[0;34m=\u001b[0m \u001b[0mnp_results\u001b[0m\u001b[0;34m(\u001b[0m\u001b[0mname\u001b[0m\u001b[0;34m,\u001b[0m \u001b[0mtype\u001b[0m\u001b[0;34m)\u001b[0m\u001b[0;34m\u001b[0m\u001b[0;34m\u001b[0m\u001b[0m\n\u001b[0m\u001b[1;32m     93\u001b[0m     \u001b[0;32mfor\u001b[0m \u001b[0mvalue\u001b[0m \u001b[0;32min\u001b[0m \u001b[0mout\u001b[0m\u001b[0;34m:\u001b[0m\u001b[0;34m\u001b[0m\u001b[0;34m\u001b[0m\u001b[0m\n\u001b[1;32m     94\u001b[0m         \u001b[0mprint\u001b[0m\u001b[0;34m(\u001b[0m\u001b[0;34mf'{value:.2f} '\u001b[0m\u001b[0;34m,\u001b[0m \u001b[0mend\u001b[0m\u001b[0;34m=\u001b[0m\u001b[0;34m''\u001b[0m\u001b[0;34m)\u001b[0m\u001b[0;34m\u001b[0m\u001b[0;34m\u001b[0m\u001b[0m\n",
      "\u001b[0;32m<ipython-input-3-cac79f8772b4>\u001b[0m in \u001b[0;36mnp_results\u001b[0;34m(name, type, focused)\u001b[0m\n\u001b[1;32m     69\u001b[0m         \u001b[0mlangs\u001b[0m\u001b[0;34m=\u001b[0m\u001b[0mlangs\u001b[0m\u001b[0;34m,\u001b[0m\u001b[0;34m\u001b[0m\u001b[0;34m\u001b[0m\u001b[0m\n\u001b[1;32m     70\u001b[0m         \u001b[0mvalues_only\u001b[0m\u001b[0;34m=\u001b[0m\u001b[0;32mTrue\u001b[0m\u001b[0;34m,\u001b[0m\u001b[0;34m\u001b[0m\u001b[0;34m\u001b[0m\u001b[0m\n\u001b[0;32m---> 71\u001b[0;31m         \u001b[0mfocused\u001b[0m\u001b[0;34m=\u001b[0m\u001b[0mfocused\u001b[0m\u001b[0;34m\u001b[0m\u001b[0;34m\u001b[0m\u001b[0m\n\u001b[0m\u001b[1;32m     72\u001b[0m     )\n\u001b[1;32m     73\u001b[0m \u001b[0;34m\u001b[0m\u001b[0m\n",
      "\u001b[0;32m<ipython-input-3-cac79f8772b4>\u001b[0m in \u001b[0;36mresults\u001b[0;34m(runs, tasks, langs, focused, values_only)\u001b[0m\n\u001b[1;32m     54\u001b[0m     \u001b[0;32mif\u001b[0m \u001b[0mvalues_only\u001b[0m\u001b[0;34m:\u001b[0m\u001b[0;34m\u001b[0m\u001b[0;34m\u001b[0m\u001b[0m\n\u001b[1;32m     55\u001b[0m         return np.array([\n\u001b[0;32m---> 56\u001b[0;31m             \u001b[0mlist\u001b[0m\u001b[0;34m(\u001b[0m\u001b[0mrun\u001b[0m\u001b[0;34m.\u001b[0m\u001b[0mvalues\u001b[0m\u001b[0;34m(\u001b[0m\u001b[0;34m)\u001b[0m\u001b[0;34m)\u001b[0m\u001b[0;34m[\u001b[0m\u001b[0;36m0\u001b[0m\u001b[0;34m]\u001b[0m\u001b[0;34m[\u001b[0m\u001b[0;36m0\u001b[0m\u001b[0;34m]\u001b[0m \u001b[0;32mfor\u001b[0m \u001b[0mrun\u001b[0m \u001b[0;32min\u001b[0m \u001b[0mout\u001b[0m\u001b[0;34m.\u001b[0m\u001b[0mvalues\u001b[0m\u001b[0;34m(\u001b[0m\u001b[0;34m)\u001b[0m\u001b[0;34m\u001b[0m\u001b[0;34m\u001b[0m\u001b[0m\n\u001b[0m\u001b[1;32m     57\u001b[0m         ])\n\u001b[1;32m     58\u001b[0m     \u001b[0;32melse\u001b[0m\u001b[0;34m:\u001b[0m\u001b[0;34m\u001b[0m\u001b[0;34m\u001b[0m\u001b[0m\n",
      "\u001b[0;32m<ipython-input-3-cac79f8772b4>\u001b[0m in \u001b[0;36m<listcomp>\u001b[0;34m(.0)\u001b[0m\n\u001b[1;32m     54\u001b[0m     \u001b[0;32mif\u001b[0m \u001b[0mvalues_only\u001b[0m\u001b[0;34m:\u001b[0m\u001b[0;34m\u001b[0m\u001b[0;34m\u001b[0m\u001b[0m\n\u001b[1;32m     55\u001b[0m         return np.array([\n\u001b[0;32m---> 56\u001b[0;31m             \u001b[0mlist\u001b[0m\u001b[0;34m(\u001b[0m\u001b[0mrun\u001b[0m\u001b[0;34m.\u001b[0m\u001b[0mvalues\u001b[0m\u001b[0;34m(\u001b[0m\u001b[0;34m)\u001b[0m\u001b[0;34m)\u001b[0m\u001b[0;34m[\u001b[0m\u001b[0;36m0\u001b[0m\u001b[0;34m]\u001b[0m\u001b[0;34m[\u001b[0m\u001b[0;36m0\u001b[0m\u001b[0;34m]\u001b[0m \u001b[0;32mfor\u001b[0m \u001b[0mrun\u001b[0m \u001b[0;32min\u001b[0m \u001b[0mout\u001b[0m\u001b[0;34m.\u001b[0m\u001b[0mvalues\u001b[0m\u001b[0;34m(\u001b[0m\u001b[0;34m)\u001b[0m\u001b[0;34m\u001b[0m\u001b[0;34m\u001b[0m\u001b[0m\n\u001b[0m\u001b[1;32m     57\u001b[0m         ])\n\u001b[1;32m     58\u001b[0m     \u001b[0;32melse\u001b[0m\u001b[0;34m:\u001b[0m\u001b[0;34m\u001b[0m\u001b[0;34m\u001b[0m\u001b[0m\n",
      "\u001b[0;31mIndexError\u001b[0m: list index out of range"
     ],
     "ename": "IndexError",
     "evalue": "list index out of range",
     "output_type": "error"
    }
   ],
   "source": [
    "tempo('low-resource', 'stsl')\n",
    "\n",
    "# tabl = gen_table([\n",
    "#         (12, 'stsl', 'low-resource'),\n",
    "#         (12, 'ml-3', 'low-resource'),\n",
    "#         (12, 'mt-3', 'low-resource'),\n",
    "#         (12, 'rel', 'low-resource'),\n",
    "#         (12, 'all', 'low-resource'),\n",
    "#         (12, 'all', 'low-resource-task-lang'),\n",
    "#         (12, 'all', 'low-resource-embs'),\n",
    "#         (12, 'all', 'low-resource-adversarial'),\n",
    "# ], simple_baseline)\n",
    "# \n",
    "# for row in tabl:\n",
    "#     for num in row:\n",
    "#         print(' & ', f'{num:.2f}', end='')\n",
    "#     print(' \\\\\\\\')\n"
   ]
  },
  {
   "cell_type": "code",
   "execution_count": null,
   "metadata": {},
   "outputs": [],
   "source": []
  }
 ],
 "metadata": {
  "kernelspec": {
   "display_name": "Python 3",
   "language": "python",
   "name": "python3"
  },
  "language_info": {
   "codemirror_mode": {
    "name": "ipython",
    "version": 3
   },
   "file_extension": ".py",
   "mimetype": "text/x-python",
   "name": "python",
   "nbconvert_exporter": "python",
   "pygments_lexer": "ipython3",
   "version": "3.6.8"
  },
  "pycharm": {
   "stem_cell": {
    "cell_type": "raw",
    "source": [],
    "metadata": {
     "collapsed": false
    }
   }
  }
 },
 "nbformat": 4,
 "nbformat_minor": 2
}